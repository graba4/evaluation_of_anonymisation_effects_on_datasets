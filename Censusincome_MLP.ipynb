{
 "cells": [
  {
   "cell_type": "code",
   "execution_count": 1,
   "metadata": {},
   "outputs": [],
   "source": [
    "import numpy as np\n",
    "import pandas as pd\n",
    "import time\n",
    "import graphviz\n",
    "import seaborn as sbn\n",
    "import matplotlib.pyplot as plt\n",
    "from sklearn import tree\n",
    "from sklearn import preprocessing\n",
    "from sklearn.neural_network import MLPClassifier"
   ]
  },
  {
   "cell_type": "code",
   "execution_count": 2,
   "metadata": {},
   "outputs": [],
   "source": [
    "k = 64"
   ]
  },
  {
   "cell_type": "code",
   "execution_count": 3,
   "metadata": {},
   "outputs": [],
   "source": [
    "census_data = pd.read_csv('ano-data/census/'+str(k)+'_census.csv',header = 0,sep=',',engine='python',na_values='?')\n",
    "census_test = pd.read_csv('ano-data/census/'+str(1)+'_census_test.csv',header = 0,sep=',',engine='python',na_values='?')"
   ]
  },
  {
   "cell_type": "code",
   "execution_count": 4,
   "metadata": {},
   "outputs": [],
   "source": [
    "census_data.drop(census_data.columns[0], axis=1,inplace = True)\n",
    "census_test.drop(census_test.columns[0], axis=1,inplace = True)"
   ]
  },
  {
   "cell_type": "code",
   "execution_count": 5,
   "metadata": {},
   "outputs": [],
   "source": [
    "data_feature = census_data.drop(columns=['income']).copy()\n",
    "data_label = census_data['income'].copy()\n",
    "\n",
    "test_feature = census_test.drop(columns=['income']).copy()\n",
    "test_label = census_test['income'].copy()\n",
    "\n",
    "for i in range(len(test_label)):\n",
    "    test_label.loc[i]=str(test_label.loc[i]).strip('.')"
   ]
  },
  {
   "cell_type": "code",
   "execution_count": 6,
   "metadata": {},
   "outputs": [],
   "source": [
    "def Accuracy(predicted, truth):\n",
    "    correct = 0\n",
    "    for i in range(len(predicted)):\n",
    "        if predicted[i]==truth.iloc[i]:\n",
    "            correct +=1\n",
    "    return correct/len(predicted)"
   ]
  },
  {
   "cell_type": "code",
   "execution_count": 7,
   "metadata": {},
   "outputs": [
    {
     "name": "stdout",
     "output_type": "stream",
     "text": [
      "Minimum expected accuracy: 75.91904425539757\n",
      "Minimum expected accuracy: 76.3773723972729\n"
     ]
    }
   ],
   "source": [
    "print(\"Minimum expected accuracy: \"+str(data_label.value_counts().max()/data_label.value_counts().sum()*100))\n",
    "print(\"Minimum expected accuracy: \"+str(test_label.value_counts().max()/test_label.value_counts().sum()*100))"
   ]
  },
  {
   "cell_type": "code",
   "execution_count": 8,
   "metadata": {},
   "outputs": [],
   "source": [
    "#Converting labels to 0-1\n",
    "for i in range(data_label.shape[0]):\n",
    "    data_label.iloc[i]=int(\"<\" in data_label.iloc[i])\n",
    "for i in range(test_label.shape[0]):\n",
    "    test_label.iloc[i]=int(\"<\" in test_label.iloc[i])"
   ]
  },
  {
   "cell_type": "code",
   "execution_count": 9,
   "metadata": {},
   "outputs": [
    {
     "name": "stderr",
     "output_type": "stream",
     "text": [
      "/home/pkovacs/anaconda3/lib/python3.6/site-packages/h5py/__init__.py:36: FutureWarning: Conversion of the second argument of issubdtype from `float` to `np.floating` is deprecated. In future, it will be treated as `np.float64 == np.dtype(float).type`.\n",
      "  from ._conv import register_converters as _register_converters\n",
      "Using TensorFlow backend.\n",
      "/home/pkovacs/anaconda3/lib/python3.6/site-packages/ipykernel_launcher.py:18: UserWarning: Update your `Dense` call to the Keras 2 API: `Dense(activation=\"relu\", input_dim=91, units=2, kernel_initializer=\"uniform\")`\n",
      "/home/pkovacs/anaconda3/lib/python3.6/site-packages/ipykernel_launcher.py:20: UserWarning: Update your `Dense` call to the Keras 2 API: `Dense(activation=\"relu\", units=2, kernel_initializer=\"uniform\")`\n",
      "/home/pkovacs/anaconda3/lib/python3.6/site-packages/ipykernel_launcher.py:22: UserWarning: Update your `Dense` call to the Keras 2 API: `Dense(activation=\"sigmoid\", units=1, kernel_initializer=\"uniform\")`\n",
      "/home/pkovacs/anaconda3/lib/python3.6/site-packages/ipykernel_launcher.py:27: UserWarning: The `nb_epoch` argument in `fit` has been renamed `epochs`.\n"
     ]
    },
    {
     "name": "stdout",
     "output_type": "stream",
     "text": [
      "Train on 27676 samples, validate on 4885 samples\n",
      "Epoch 1/100\n",
      "27676/27676 [==============================] - 9s 321us/step - loss: 0.5753 - acc: 0.7589 - val_loss: 0.5520 - val_acc: 0.7593\n",
      "Epoch 2/100\n",
      "27676/27676 [==============================] - 8s 295us/step - loss: 0.5521 - acc: 0.7592 - val_loss: 0.5519 - val_acc: 0.7593\n",
      "Epoch 3/100\n",
      "27676/27676 [==============================] - 10s 369us/step - loss: 0.5521 - acc: 0.7592 - val_loss: 0.5519 - val_acc: 0.7593\n",
      "Epoch 4/100\n",
      "27676/27676 [==============================] - 10s 359us/step - loss: 0.5520 - acc: 0.7592 - val_loss: 0.5520 - val_acc: 0.7593\n",
      "Epoch 5/100\n",
      "27676/27676 [==============================] - 9s 337us/step - loss: 0.5521 - acc: 0.7592 - val_loss: 0.5519 - val_acc: 0.7593\n",
      "Epoch 6/100\n",
      "27676/27676 [==============================] - 10s 357us/step - loss: 0.5521 - acc: 0.7592 - val_loss: 0.5520 - val_acc: 0.7593\n",
      "Epoch 7/100\n",
      "27676/27676 [==============================] - 10s 357us/step - loss: 0.5521 - acc: 0.7592 - val_loss: 0.5519 - val_acc: 0.7593\n",
      "Epoch 8/100\n",
      "27676/27676 [==============================] - 10s 362us/step - loss: 0.5521 - acc: 0.7592 - val_loss: 0.5519 - val_acc: 0.7593\n",
      "Epoch 9/100\n",
      "27676/27676 [==============================] - 10s 363us/step - loss: 0.5521 - acc: 0.7592 - val_loss: 0.5520 - val_acc: 0.7593\n",
      "Epoch 10/100\n",
      "27676/27676 [==============================] - 9s 335us/step - loss: 0.5521 - acc: 0.7592 - val_loss: 0.5519 - val_acc: 0.7593\n"
     ]
    },
    {
     "name": "stderr",
     "output_type": "stream",
     "text": [
      "/home/pkovacs/anaconda3/lib/python3.6/site-packages/ipykernel_launcher.py:18: UserWarning: Update your `Dense` call to the Keras 2 API: `Dense(activation=\"relu\", input_dim=91, units=4, kernel_initializer=\"uniform\")`\n",
      "/home/pkovacs/anaconda3/lib/python3.6/site-packages/ipykernel_launcher.py:20: UserWarning: Update your `Dense` call to the Keras 2 API: `Dense(activation=\"relu\", units=4, kernel_initializer=\"uniform\")`\n"
     ]
    },
    {
     "name": "stdout",
     "output_type": "stream",
     "text": [
      "Train on 27676 samples, validate on 4885 samples\n",
      "Epoch 1/100\n",
      "27676/27676 [==============================] - 11s 383us/step - loss: 0.4726 - acc: 0.7644 - val_loss: 0.3905 - val_acc: 0.8111\n",
      "Epoch 2/100\n",
      "27676/27676 [==============================] - 9s 336us/step - loss: 0.3856 - acc: 0.8093 - val_loss: 0.3734 - val_acc: 0.8182\n",
      "Epoch 3/100\n",
      "27676/27676 [==============================] - 10s 368us/step - loss: 0.3768 - acc: 0.8107 - val_loss: 0.3728 - val_acc: 0.8123\n",
      "Epoch 4/100\n",
      "27676/27676 [==============================] - 9s 338us/step - loss: 0.5443 - acc: 0.8076 - val_loss: 1.0949 - val_acc: 0.8006\n",
      "Epoch 5/100\n",
      "27676/27676 [==============================] - 10s 370us/step - loss: 1.1443 - acc: 0.7930 - val_loss: 1.0930 - val_acc: 0.8002\n",
      "Epoch 6/100\n",
      "27676/27676 [==============================] - 9s 337us/step - loss: 1.1428 - acc: 0.7929 - val_loss: 1.0993 - val_acc: 0.7977\n",
      "Epoch 7/100\n",
      "27676/27676 [==============================] - 9s 337us/step - loss: 1.1417 - acc: 0.7955 - val_loss: 1.0955 - val_acc: 0.7994\n",
      "Epoch 8/100\n",
      "27676/27676 [==============================] - 10s 369us/step - loss: 1.1410 - acc: 0.7941 - val_loss: 1.0909 - val_acc: 0.7992\n"
     ]
    },
    {
     "name": "stderr",
     "output_type": "stream",
     "text": [
      "/home/pkovacs/anaconda3/lib/python3.6/site-packages/ipykernel_launcher.py:18: UserWarning: Update your `Dense` call to the Keras 2 API: `Dense(activation=\"relu\", input_dim=91, units=8, kernel_initializer=\"uniform\")`\n",
      "/home/pkovacs/anaconda3/lib/python3.6/site-packages/ipykernel_launcher.py:20: UserWarning: Update your `Dense` call to the Keras 2 API: `Dense(activation=\"relu\", units=8, kernel_initializer=\"uniform\")`\n"
     ]
    },
    {
     "name": "stdout",
     "output_type": "stream",
     "text": [
      "Train on 27676 samples, validate on 4885 samples\n",
      "Epoch 1/100\n",
      "27676/27676 [==============================] - 12s 429us/step - loss: 0.4364 - acc: 0.8006 - val_loss: 0.3615 - val_acc: 0.8233\n",
      "Epoch 2/100\n",
      "27676/27676 [==============================] - 11s 392us/step - loss: 0.3530 - acc: 0.8316 - val_loss: 0.3431 - val_acc: 0.8395\n",
      "Epoch 3/100\n",
      "27676/27676 [==============================] - 11s 405us/step - loss: 0.3458 - acc: 0.8364 - val_loss: 0.3384 - val_acc: 0.8454\n",
      "Epoch 4/100\n",
      "27676/27676 [==============================] - 10s 355us/step - loss: 0.5299 - acc: 0.8236 - val_loss: 1.1055 - val_acc: 0.7932\n",
      "Epoch 5/100\n",
      "27676/27676 [==============================] - 10s 344us/step - loss: 1.1453 - acc: 0.7934 - val_loss: 1.0968 - val_acc: 0.7990\n",
      "Epoch 6/100\n",
      "27676/27676 [==============================] - 10s 374us/step - loss: 1.1414 - acc: 0.7939 - val_loss: 1.0887 - val_acc: 0.7996\n",
      "Epoch 7/100\n",
      "27676/27676 [==============================] - 10s 348us/step - loss: 1.1387 - acc: 0.7936 - val_loss: 1.0870 - val_acc: 0.7992\n",
      "Epoch 8/100\n",
      "27676/27676 [==============================] - 9s 343us/step - loss: 1.1367 - acc: 0.7959 - val_loss: 1.0857 - val_acc: 0.8033\n"
     ]
    },
    {
     "name": "stderr",
     "output_type": "stream",
     "text": [
      "/home/pkovacs/anaconda3/lib/python3.6/site-packages/ipykernel_launcher.py:18: UserWarning: Update your `Dense` call to the Keras 2 API: `Dense(activation=\"relu\", input_dim=91, units=16, kernel_initializer=\"uniform\")`\n",
      "/home/pkovacs/anaconda3/lib/python3.6/site-packages/ipykernel_launcher.py:20: UserWarning: Update your `Dense` call to the Keras 2 API: `Dense(activation=\"relu\", units=16, kernel_initializer=\"uniform\")`\n"
     ]
    },
    {
     "name": "stdout",
     "output_type": "stream",
     "text": [
      "Train on 27676 samples, validate on 4885 samples\n",
      "Epoch 1/100\n",
      "27676/27676 [==============================] - 10s 358us/step - loss: 0.4771 - acc: 0.7817 - val_loss: 1.1021 - val_acc: 0.7605\n",
      "Epoch 2/100\n",
      "27676/27676 [==============================] - 10s 344us/step - loss: 1.1475 - acc: 0.7909 - val_loss: 1.0924 - val_acc: 0.8027\n",
      "Epoch 3/100\n",
      "27676/27676 [==============================] - 10s 348us/step - loss: 1.1406 - acc: 0.7934 - val_loss: 1.0894 - val_acc: 0.8033\n",
      "Epoch 4/100\n",
      "27676/27676 [==============================] - 9s 329us/step - loss: 1.1385 - acc: 0.7936 - val_loss: 1.0902 - val_acc: 0.7951\n",
      "Epoch 5/100\n",
      "27676/27676 [==============================] - 7s 266us/step - loss: 1.1365 - acc: 0.7952 - val_loss: 1.0970 - val_acc: 0.7953\n",
      "Epoch 6/100\n",
      "27676/27676 [==============================] - 7s 268us/step - loss: 1.1347 - acc: 0.7958 - val_loss: 1.0856 - val_acc: 0.8029\n",
      "Epoch 7/100\n",
      "27676/27676 [==============================] - 7s 265us/step - loss: 1.1339 - acc: 0.7966 - val_loss: 1.0864 - val_acc: 0.8014\n",
      "Epoch 8/100\n",
      "27676/27676 [==============================] - 8s 273us/step - loss: 1.1330 - acc: 0.7972 - val_loss: 1.0830 - val_acc: 0.8047\n",
      "Epoch 9/100\n",
      "27676/27676 [==============================] - 7s 256us/step - loss: 1.3748 - acc: 0.7962 - val_loss: 1.4019 - val_acc: 0.8049\n",
      "Epoch 10/100\n",
      "27676/27676 [==============================] - 7s 251us/step - loss: 1.4822 - acc: 0.7954 - val_loss: 1.4013 - val_acc: 0.8059\n",
      "Epoch 11/100\n",
      "27676/27676 [==============================] - 7s 254us/step - loss: 1.4817 - acc: 0.7948 - val_loss: 1.4068 - val_acc: 0.7977\n",
      "Epoch 12/100\n",
      "27676/27676 [==============================] - 7s 260us/step - loss: 1.4809 - acc: 0.7969 - val_loss: 1.4167 - val_acc: 0.7980\n",
      "Epoch 13/100\n",
      "27676/27676 [==============================] - 7s 263us/step - loss: 1.4803 - acc: 0.7969 - val_loss: 1.4024 - val_acc: 0.8035\n"
     ]
    },
    {
     "name": "stderr",
     "output_type": "stream",
     "text": [
      "/home/pkovacs/anaconda3/lib/python3.6/site-packages/ipykernel_launcher.py:18: UserWarning: Update your `Dense` call to the Keras 2 API: `Dense(activation=\"relu\", input_dim=91, units=32, kernel_initializer=\"uniform\")`\n",
      "/home/pkovacs/anaconda3/lib/python3.6/site-packages/ipykernel_launcher.py:20: UserWarning: Update your `Dense` call to the Keras 2 API: `Dense(activation=\"relu\", units=32, kernel_initializer=\"uniform\")`\n"
     ]
    },
    {
     "name": "stdout",
     "output_type": "stream",
     "text": [
      "Train on 27676 samples, validate on 4885 samples\n",
      "Epoch 1/100\n",
      "27676/27676 [==============================] - 7s 270us/step - loss: 0.4662 - acc: 0.8050 - val_loss: 0.3558 - val_acc: 0.8227\n",
      "Epoch 2/100\n",
      "27676/27676 [==============================] - 7s 254us/step - loss: 0.3489 - acc: 0.8308 - val_loss: 0.3440 - val_acc: 0.8356\n",
      "Epoch 3/100\n",
      "27676/27676 [==============================] - 7s 269us/step - loss: 0.3449 - acc: 0.8371 - val_loss: 0.3342 - val_acc: 0.8418\n",
      "Epoch 4/100\n",
      "27676/27676 [==============================] - 8s 296us/step - loss: 0.3398 - acc: 0.8377 - val_loss: 0.3612 - val_acc: 0.8330\n",
      "Epoch 5/100\n",
      "27676/27676 [==============================] - 8s 292us/step - loss: 0.3375 - acc: 0.8411 - val_loss: 0.3339 - val_acc: 0.8407\n",
      "Epoch 6/100\n",
      "27676/27676 [==============================] - 8s 287us/step - loss: 0.3330 - acc: 0.8420 - val_loss: 0.3418 - val_acc: 0.8342\n",
      "Epoch 7/100\n",
      "27676/27676 [==============================] - 7s 250us/step - loss: 0.3313 - acc: 0.8448 - val_loss: 0.3341 - val_acc: 0.8454\n",
      "Epoch 8/100\n",
      "27676/27676 [==============================] - 7s 249us/step - loss: 0.3271 - acc: 0.8466 - val_loss: 0.3355 - val_acc: 0.8424\n",
      "Epoch 9/100\n",
      "27676/27676 [==============================] - 7s 254us/step - loss: 0.3276 - acc: 0.8485 - val_loss: 0.3313 - val_acc: 0.8559\n",
      "Epoch 10/100\n",
      "27676/27676 [==============================] - 7s 252us/step - loss: 0.3235 - acc: 0.8488 - val_loss: 0.3260 - val_acc: 0.8516\n",
      "Epoch 11/100\n",
      "27676/27676 [==============================] - 7s 264us/step - loss: 0.3211 - acc: 0.8517 - val_loss: 0.3226 - val_acc: 0.8540\n",
      "Epoch 12/100\n",
      "27676/27676 [==============================] - 7s 263us/step - loss: 0.3217 - acc: 0.8491 - val_loss: 0.3230 - val_acc: 0.8538\n",
      "Epoch 13/100\n",
      "27676/27676 [==============================] - 7s 263us/step - loss: 0.3195 - acc: 0.8514 - val_loss: 0.3228 - val_acc: 0.8528\n",
      "Epoch 14/100\n",
      "27676/27676 [==============================] - 8s 284us/step - loss: 0.3211 - acc: 0.8512 - val_loss: 0.3269 - val_acc: 0.8520\n",
      "Epoch 15/100\n",
      "27676/27676 [==============================] - 7s 264us/step - loss: 0.9176 - acc: 0.8210 - val_loss: 1.0791 - val_acc: 0.8115\n",
      "Epoch 16/100\n",
      "27676/27676 [==============================] - 7s 243us/step - loss: 1.1191 - acc: 0.8116 - val_loss: 1.0864 - val_acc: 0.8012\n"
     ]
    },
    {
     "name": "stderr",
     "output_type": "stream",
     "text": [
      "/home/pkovacs/anaconda3/lib/python3.6/site-packages/ipykernel_launcher.py:18: UserWarning: Update your `Dense` call to the Keras 2 API: `Dense(activation=\"relu\", input_dim=91, units=64, kernel_initializer=\"uniform\")`\n",
      "/home/pkovacs/anaconda3/lib/python3.6/site-packages/ipykernel_launcher.py:20: UserWarning: Update your `Dense` call to the Keras 2 API: `Dense(activation=\"relu\", units=64, kernel_initializer=\"uniform\")`\n"
     ]
    },
    {
     "name": "stdout",
     "output_type": "stream",
     "text": [
      "Train on 27676 samples, validate on 4885 samples\n",
      "Epoch 1/100\n",
      "27676/27676 [==============================] - 7s 261us/step - loss: 0.5897 - acc: 0.8004 - val_loss: 1.0909 - val_acc: 0.8025\n",
      "Epoch 2/100\n",
      "27676/27676 [==============================] - 7s 260us/step - loss: 1.1424 - acc: 0.7965 - val_loss: 1.1007 - val_acc: 0.7924\n",
      "Epoch 3/100\n",
      "27676/27676 [==============================] - 7s 261us/step - loss: 1.1377 - acc: 0.7964 - val_loss: 1.0853 - val_acc: 0.8076\n",
      "Epoch 4/100\n",
      "27676/27676 [==============================] - 7s 267us/step - loss: 1.1375 - acc: 0.7965 - val_loss: 1.0881 - val_acc: 0.8061\n",
      "Epoch 5/100\n",
      "27676/27676 [==============================] - 7s 266us/step - loss: 1.1342 - acc: 0.7973 - val_loss: 1.0923 - val_acc: 0.7910\n",
      "Epoch 6/100\n",
      "27676/27676 [==============================] - 7s 265us/step - loss: 1.1328 - acc: 0.7971 - val_loss: 1.0822 - val_acc: 0.8057\n",
      "Epoch 7/100\n",
      "27676/27676 [==============================] - 7s 262us/step - loss: 1.1322 - acc: 0.7961 - val_loss: 1.0835 - val_acc: 0.8029\n",
      "Epoch 8/100\n",
      "27676/27676 [==============================] - 7s 261us/step - loss: 1.1324 - acc: 0.7969 - val_loss: 1.0803 - val_acc: 0.8070\n",
      "Epoch 9/100\n",
      "27676/27676 [==============================] - 7s 260us/step - loss: 1.1310 - acc: 0.8001 - val_loss: 1.0826 - val_acc: 0.8014\n",
      "Epoch 10/100\n",
      "27676/27676 [==============================] - 7s 261us/step - loss: 1.1302 - acc: 0.7963 - val_loss: 1.0855 - val_acc: 0.8082\n",
      "Epoch 11/100\n",
      "27676/27676 [==============================] - 7s 260us/step - loss: 1.1296 - acc: 0.7982 - val_loss: 1.1041 - val_acc: 0.7922\n",
      "Epoch 12/100\n",
      "27676/27676 [==============================] - 7s 260us/step - loss: 1.1277 - acc: 0.7997 - val_loss: 1.0812 - val_acc: 0.8066\n",
      "Epoch 13/100\n",
      "27676/27676 [==============================] - 7s 267us/step - loss: 1.1285 - acc: 0.7973 - val_loss: 1.0885 - val_acc: 0.7977\n"
     ]
    }
   ],
   "source": [
    "#NOSCALE\n",
    "import keras\n",
    "from keras.models import Sequential\n",
    "from keras.layers import Dense\n",
    "from sklearn.preprocessing import StandardScaler\n",
    "from sklearn.model_selection import train_test_split\n",
    "import time\n",
    "\n",
    "data_feature, val_feature, data_label, val_label = train_test_split(data_feature, data_label, test_size=0.15, random_state=42,stratify = data_label)\n",
    "\n",
    "SIZES = [2,4,8,16,32,64]\n",
    "times = np.zeros(len(SIZES))\n",
    "accs = np.zeros(len(SIZES))\n",
    "\n",
    "for i in range(len(SIZES)):\n",
    "    classifier = Sequential()\n",
    "    # Adding the input layer and the first hidden layer\n",
    "    classifier.add(Dense(output_dim = SIZES[i], init = 'uniform', activation = 'relu', input_dim = data_feature.shape[1]))\n",
    "    # Adding the second hidden layer\n",
    "    classifier.add(Dense(output_dim = SIZES[i], init = 'uniform', activation = 'relu'))\n",
    "    # Adding the output layer\n",
    "    classifier.add(Dense(output_dim = 1, init = 'uniform', activation = 'sigmoid'))\n",
    "\n",
    "    classifier.compile(optimizer = 'adam', loss = 'binary_crossentropy', metrics = ['accuracy'])\n",
    "    clb = [keras.callbacks.EarlyStopping(monitor='val_loss', min_delta=0, patience=5, verbose=0, mode='auto', baseline=None, restore_best_weights=True)]\n",
    "    start = time.time()\n",
    "    classifier.fit(data_feature, data_label, batch_size = 8, nb_epoch = 100,validation_data=(val_feature,val_label),callbacks=clb)\n",
    "    times[i]=time.time()-start\n",
    "    y_pred = classifier.predict(test_feature)\n",
    "    y_pred = np.array([int(y>0.5) for y in y_pred])\n",
    "    accs[i]=Accuracy(y_pred,test_label)"
   ]
  },
  {
   "cell_type": "code",
   "execution_count": 10,
   "metadata": {},
   "outputs": [
    {
     "data": {
      "image/png": "[encoded data removed]",
      "text/plain": [
       "<matplotlib.figure.Figure at 0x14ef93cbe0b8>"
      ]
     },
     "metadata": {},
     "output_type": "display_data"
    }
   ],
   "source": [
    "plt.plot(SIZES,times)\n",
    "plt.xlabel(\"Size of one layer\")\n",
    "plt.title(\"Training time (s)\")\n",
    "plt.savefig(\"CensusIncome_NN_traintime_noscaled.png\")"
   ]
  },
  {
   "cell_type": "code",
   "execution_count": 11,
   "metadata": {
    "scrolled": true
   },
   "outputs": [
    {
     "data": {
      "image/png": "[encoded data removed]",
      "text/plain": [
       "<matplotlib.figure.Figure at 0x14ef93add588>"
      ]
     },
     "metadata": {},
     "output_type": "display_data"
    }
   ],
   "source": [
    "plt.plot(SIZES,accs*100)\n",
    "plt.xlabel(\"Size of one layer\")\n",
    "plt.title(\"Accuracy (%)\")\n",
    "plt.savefig(\"CensusIncome_NN_Accuracy_noscaled.png\")"
   ]
  },
  {
   "cell_type": "code",
   "execution_count": null,
   "metadata": {},
   "outputs": [],
   "source": []
  },
  {
   "cell_type": "code",
   "execution_count": 12,
   "metadata": {},
   "outputs": [
    {
     "name": "stderr",
     "output_type": "stream",
     "text": [
      "/home/pkovacs/anaconda3/lib/python3.6/site-packages/ipykernel_launcher.py:28: UserWarning: Update your `Dense` call to the Keras 2 API: `Dense(activation=\"relu\", input_dim=91, units=2, kernel_initializer=\"uniform\")`\n",
      "/home/pkovacs/anaconda3/lib/python3.6/site-packages/ipykernel_launcher.py:30: UserWarning: Update your `Dense` call to the Keras 2 API: `Dense(activation=\"relu\", units=2, kernel_initializer=\"uniform\")`\n",
      "/home/pkovacs/anaconda3/lib/python3.6/site-packages/ipykernel_launcher.py:32: UserWarning: Update your `Dense` call to the Keras 2 API: `Dense(activation=\"sigmoid\", units=1, kernel_initializer=\"uniform\")`\n",
      "/home/pkovacs/anaconda3/lib/python3.6/site-packages/ipykernel_launcher.py:37: UserWarning: The `nb_epoch` argument in `fit` has been renamed `epochs`.\n"
     ]
    },
    {
     "name": "stdout",
     "output_type": "stream",
     "text": [
      "Train on 23524 samples, validate on 4152 samples\n",
      "Epoch 1/100\n",
      "23524/23524 [==============================] - 7s 281us/step - loss: 0.5798 - acc: 0.7590 - val_loss: 0.5526 - val_acc: 0.7592\n",
      "Epoch 2/100\n",
      "23524/23524 [==============================] - 6s 263us/step - loss: 0.5522 - acc: 0.7592 - val_loss: 0.5521 - val_acc: 0.7592\n",
      "Epoch 3/100\n",
      "23524/23524 [==============================] - 6s 259us/step - loss: 0.5521 - acc: 0.7592 - val_loss: 0.5521 - val_acc: 0.7592\n",
      "Epoch 4/100\n",
      "23524/23524 [==============================] - 6s 256us/step - loss: 0.5521 - acc: 0.7592 - val_loss: 0.5521 - val_acc: 0.7592\n",
      "Epoch 5/100\n",
      "23524/23524 [==============================] - 6s 257us/step - loss: 0.5521 - acc: 0.7592 - val_loss: 0.5521 - val_acc: 0.7592\n",
      "Epoch 6/100\n",
      "23524/23524 [==============================] - 6s 258us/step - loss: 0.5521 - acc: 0.7592 - val_loss: 0.5521 - val_acc: 0.7592\n",
      "Epoch 7/100\n",
      "23524/23524 [==============================] - 6s 268us/step - loss: 0.5521 - acc: 0.7592 - val_loss: 0.5521 - val_acc: 0.7592\n",
      "Epoch 8/100\n",
      "23524/23524 [==============================] - 6s 269us/step - loss: 0.5521 - acc: 0.7592 - val_loss: 0.5521 - val_acc: 0.7592\n",
      "Epoch 9/100\n",
      "23524/23524 [==============================] - 6s 276us/step - loss: 0.5521 - acc: 0.7592 - val_loss: 0.5521 - val_acc: 0.7592\n",
      "Epoch 10/100\n",
      "23524/23524 [==============================] - 6s 255us/step - loss: 0.5521 - acc: 0.7592 - val_loss: 0.5521 - val_acc: 0.7592\n",
      "Epoch 11/100\n",
      "23524/23524 [==============================] - 6s 253us/step - loss: 0.5521 - acc: 0.7592 - val_loss: 0.5521 - val_acc: 0.7592\n",
      "Epoch 12/100\n",
      "23524/23524 [==============================] - 6s 255us/step - loss: 0.5521 - acc: 0.7592 - val_loss: 0.5521 - val_acc: 0.7592\n",
      "Epoch 13/100\n",
      "23524/23524 [==============================] - 6s 245us/step - loss: 0.5520 - acc: 0.7592 - val_loss: 0.5522 - val_acc: 0.7592\n",
      "Epoch 14/100\n",
      "23524/23524 [==============================] - 6s 245us/step - loss: 0.5521 - acc: 0.7592 - val_loss: 0.5521 - val_acc: 0.7592\n",
      "Epoch 15/100\n",
      "23524/23524 [==============================] - 6s 258us/step - loss: 0.5521 - acc: 0.7592 - val_loss: 0.5521 - val_acc: 0.7592\n",
      "Epoch 16/100\n",
      "23524/23524 [==============================] - 6s 251us/step - loss: 0.5521 - acc: 0.7592 - val_loss: 0.5521 - val_acc: 0.7592\n",
      "Epoch 17/100\n",
      "23524/23524 [==============================] - 6s 254us/step - loss: 0.5521 - acc: 0.7592 - val_loss: 0.5521 - val_acc: 0.7592\n",
      "Epoch 18/100\n",
      "23524/23524 [==============================] - 6s 258us/step - loss: 0.5521 - acc: 0.7592 - val_loss: 0.5521 - val_acc: 0.7592\n",
      "Epoch 19/100\n",
      "23524/23524 [==============================] - 6s 272us/step - loss: 0.5520 - acc: 0.7592 - val_loss: 0.5522 - val_acc: 0.7592\n",
      "Epoch 20/100\n",
      "23524/23524 [==============================] - 6s 267us/step - loss: 0.5521 - acc: 0.7592 - val_loss: 0.5521 - val_acc: 0.7592\n",
      "Epoch 21/100\n",
      "23524/23524 [==============================] - 7s 308us/step - loss: 0.5521 - acc: 0.7592 - val_loss: 0.5521 - val_acc: 0.7592\n"
     ]
    },
    {
     "name": "stderr",
     "output_type": "stream",
     "text": [
      "/home/pkovacs/anaconda3/lib/python3.6/site-packages/ipykernel_launcher.py:28: UserWarning: Update your `Dense` call to the Keras 2 API: `Dense(activation=\"relu\", input_dim=91, units=4, kernel_initializer=\"uniform\")`\n",
      "/home/pkovacs/anaconda3/lib/python3.6/site-packages/ipykernel_launcher.py:30: UserWarning: Update your `Dense` call to the Keras 2 API: `Dense(activation=\"relu\", units=4, kernel_initializer=\"uniform\")`\n"
     ]
    },
    {
     "name": "stdout",
     "output_type": "stream",
     "text": [
      "Train on 23524 samples, validate on 4152 samples\n",
      "Epoch 1/100\n",
      "23524/23524 [==============================] - 6s 268us/step - loss: 0.3842 - acc: 0.8090 - val_loss: 0.3452 - val_acc: 0.8442\n",
      "Epoch 2/100\n",
      "23524/23524 [==============================] - 6s 255us/step - loss: 0.3412 - acc: 0.8442 - val_loss: 0.3331 - val_acc: 0.8456\n",
      "Epoch 3/100\n",
      "23524/23524 [==============================] - 6s 251us/step - loss: 0.3337 - acc: 0.8447 - val_loss: 0.3289 - val_acc: 0.8459\n",
      "Epoch 4/100\n",
      "23524/23524 [==============================] - 6s 264us/step - loss: 0.3296 - acc: 0.8473 - val_loss: 0.3283 - val_acc: 0.8490\n",
      "Epoch 5/100\n",
      "23524/23524 [==============================] - 6s 251us/step - loss: 0.3275 - acc: 0.8476 - val_loss: 0.3278 - val_acc: 0.8478\n",
      "Epoch 6/100\n",
      "23524/23524 [==============================] - 6s 253us/step - loss: 0.3261 - acc: 0.8466 - val_loss: 0.3280 - val_acc: 0.8502\n",
      "Epoch 7/100\n",
      "23524/23524 [==============================] - 6s 249us/step - loss: 0.3254 - acc: 0.8476 - val_loss: 0.3251 - val_acc: 0.8487\n",
      "Epoch 8/100\n",
      "23524/23524 [==============================] - 6s 245us/step - loss: 0.3243 - acc: 0.8485 - val_loss: 0.3259 - val_acc: 0.8492\n",
      "Epoch 9/100\n",
      "23524/23524 [==============================] - 6s 247us/step - loss: 0.3240 - acc: 0.8475 - val_loss: 0.3245 - val_acc: 0.8492\n",
      "Epoch 10/100\n",
      "23524/23524 [==============================] - 6s 271us/step - loss: 0.3231 - acc: 0.8505 - val_loss: 0.3264 - val_acc: 0.8463\n",
      "Epoch 11/100\n",
      "23524/23524 [==============================] - 6s 265us/step - loss: 0.3229 - acc: 0.8479 - val_loss: 0.3240 - val_acc: 0.8516\n",
      "Epoch 12/100\n",
      "23524/23524 [==============================] - 6s 269us/step - loss: 0.3225 - acc: 0.8489 - val_loss: 0.3247 - val_acc: 0.8519\n",
      "Epoch 13/100\n",
      "23524/23524 [==============================] - 7s 284us/step - loss: 0.3220 - acc: 0.8485 - val_loss: 0.3278 - val_acc: 0.8485\n",
      "Epoch 14/100\n",
      "23524/23524 [==============================] - 7s 286us/step - loss: 0.3217 - acc: 0.8498 - val_loss: 0.3234 - val_acc: 0.8502\n",
      "Epoch 15/100\n",
      "23524/23524 [==============================] - 6s 268us/step - loss: 0.3212 - acc: 0.8507 - val_loss: 0.3233 - val_acc: 0.8512\n",
      "Epoch 16/100\n",
      "23524/23524 [==============================] - 6s 260us/step - loss: 0.3212 - acc: 0.8508 - val_loss: 0.3239 - val_acc: 0.8531\n",
      "Epoch 17/100\n",
      "23524/23524 [==============================] - 7s 294us/step - loss: 0.3205 - acc: 0.8502 - val_loss: 0.3232 - val_acc: 0.8497\n",
      "Epoch 18/100\n",
      "23524/23524 [==============================] - 6s 252us/step - loss: 0.3206 - acc: 0.8491 - val_loss: 0.3218 - val_acc: 0.8536\n",
      "Epoch 19/100\n",
      "23524/23524 [==============================] - 6s 252us/step - loss: 0.3205 - acc: 0.8514 - val_loss: 0.3230 - val_acc: 0.8555\n",
      "Epoch 20/100\n",
      "23524/23524 [==============================] - 6s 251us/step - loss: 0.3199 - acc: 0.8496 - val_loss: 0.3232 - val_acc: 0.8540\n",
      "Epoch 21/100\n",
      "23524/23524 [==============================] - 6s 251us/step - loss: 0.3199 - acc: 0.8508 - val_loss: 0.3247 - val_acc: 0.8521\n",
      "Epoch 22/100\n",
      "23524/23524 [==============================] - 6s 258us/step - loss: 0.3197 - acc: 0.8485 - val_loss: 0.3219 - val_acc: 0.8548\n",
      "Epoch 23/100\n",
      "23524/23524 [==============================] - 6s 250us/step - loss: 0.3193 - acc: 0.8513 - val_loss: 0.3245 - val_acc: 0.8531\n"
     ]
    },
    {
     "name": "stderr",
     "output_type": "stream",
     "text": [
      "/home/pkovacs/anaconda3/lib/python3.6/site-packages/ipykernel_launcher.py:28: UserWarning: Update your `Dense` call to the Keras 2 API: `Dense(activation=\"relu\", input_dim=91, units=8, kernel_initializer=\"uniform\")`\n",
      "/home/pkovacs/anaconda3/lib/python3.6/site-packages/ipykernel_launcher.py:30: UserWarning: Update your `Dense` call to the Keras 2 API: `Dense(activation=\"relu\", units=8, kernel_initializer=\"uniform\")`\n"
     ]
    },
    {
     "name": "stdout",
     "output_type": "stream",
     "text": [
      "Train on 23524 samples, validate on 4152 samples\n",
      "Epoch 1/100\n",
      "23524/23524 [==============================] - 6s 267us/step - loss: 0.3737 - acc: 0.8196 - val_loss: 0.3406 - val_acc: 0.8497\n",
      "Epoch 2/100\n",
      "23524/23524 [==============================] - 6s 249us/step - loss: 0.3344 - acc: 0.8489 - val_loss: 0.3278 - val_acc: 0.8560\n",
      "Epoch 3/100\n",
      "23524/23524 [==============================] - 6s 252us/step - loss: 0.3263 - acc: 0.8502 - val_loss: 0.3217 - val_acc: 0.8528\n",
      "Epoch 4/100\n",
      "23524/23524 [==============================] - 6s 252us/step - loss: 0.3212 - acc: 0.8511 - val_loss: 0.3208 - val_acc: 0.8553\n",
      "Epoch 5/100\n",
      "23524/23524 [==============================] - 6s 252us/step - loss: 0.3191 - acc: 0.8520 - val_loss: 0.3221 - val_acc: 0.8562\n",
      "Epoch 6/100\n",
      "23524/23524 [==============================] - 6s 251us/step - loss: 0.3163 - acc: 0.8547 - val_loss: 0.3214 - val_acc: 0.8548\n",
      "Epoch 7/100\n",
      "23524/23524 [==============================] - 6s 251us/step - loss: 0.3147 - acc: 0.8534 - val_loss: 0.3198 - val_acc: 0.8569\n",
      "Epoch 8/100\n",
      "23524/23524 [==============================] - 6s 256us/step - loss: 0.3135 - acc: 0.8548 - val_loss: 0.3210 - val_acc: 0.8548\n",
      "Epoch 9/100\n",
      "23524/23524 [==============================] - 6s 246us/step - loss: 0.3121 - acc: 0.8568 - val_loss: 0.3208 - val_acc: 0.8519\n",
      "Epoch 10/100\n",
      "23524/23524 [==============================] - 6s 268us/step - loss: 0.3110 - acc: 0.8568 - val_loss: 0.3222 - val_acc: 0.8526\n",
      "Epoch 11/100\n",
      "23524/23524 [==============================] - 6s 266us/step - loss: 0.3101 - acc: 0.8550 - val_loss: 0.3199 - val_acc: 0.8533\n",
      "Epoch 12/100\n",
      "23524/23524 [==============================] - 6s 270us/step - loss: 0.3095 - acc: 0.8575 - val_loss: 0.3208 - val_acc: 0.8473\n"
     ]
    },
    {
     "name": "stderr",
     "output_type": "stream",
     "text": [
      "/home/pkovacs/anaconda3/lib/python3.6/site-packages/ipykernel_launcher.py:28: UserWarning: Update your `Dense` call to the Keras 2 API: `Dense(activation=\"relu\", input_dim=91, units=16, kernel_initializer=\"uniform\")`\n",
      "/home/pkovacs/anaconda3/lib/python3.6/site-packages/ipykernel_launcher.py:30: UserWarning: Update your `Dense` call to the Keras 2 API: `Dense(activation=\"relu\", units=16, kernel_initializer=\"uniform\")`\n"
     ]
    },
    {
     "name": "stdout",
     "output_type": "stream",
     "text": [
      "Train on 23524 samples, validate on 4152 samples\n",
      "Epoch 1/100\n",
      "23524/23524 [==============================] - 7s 311us/step - loss: 0.3669 - acc: 0.8271 - val_loss: 0.3363 - val_acc: 0.8512\n",
      "Epoch 2/100\n",
      "23524/23524 [==============================] - 8s 327us/step - loss: 0.3326 - acc: 0.8499 - val_loss: 0.3278 - val_acc: 0.8545\n",
      "Epoch 3/100\n",
      "23524/23524 [==============================] - 6s 256us/step - loss: 0.3235 - acc: 0.8517 - val_loss: 0.3199 - val_acc: 0.8536\n",
      "Epoch 4/100\n",
      "23524/23524 [==============================] - 6s 257us/step - loss: 0.3176 - acc: 0.8534 - val_loss: 0.3160 - val_acc: 0.8567\n",
      "Epoch 5/100\n",
      "23524/23524 [==============================] - 6s 254us/step - loss: 0.3145 - acc: 0.8547 - val_loss: 0.3128 - val_acc: 0.8574\n",
      "Epoch 6/100\n",
      "23524/23524 [==============================] - 6s 260us/step - loss: 0.3113 - acc: 0.8547 - val_loss: 0.3127 - val_acc: 0.8584\n",
      "Epoch 7/100\n",
      "23524/23524 [==============================] - 6s 265us/step - loss: 0.3090 - acc: 0.8570 - val_loss: 0.3125 - val_acc: 0.8565\n",
      "Epoch 8/100\n",
      "23524/23524 [==============================] - 7s 286us/step - loss: 0.3061 - acc: 0.8582 - val_loss: 0.3150 - val_acc: 0.8577\n",
      "Epoch 9/100\n",
      "23524/23524 [==============================] - 6s 267us/step - loss: 0.3049 - acc: 0.8593 - val_loss: 0.3121 - val_acc: 0.8550\n",
      "Epoch 10/100\n",
      "23524/23524 [==============================] - 6s 255us/step - loss: 0.3038 - acc: 0.8588 - val_loss: 0.3156 - val_acc: 0.8553\n",
      "Epoch 11/100\n",
      "23524/23524 [==============================] - 6s 262us/step - loss: 0.3023 - acc: 0.8604 - val_loss: 0.3140 - val_acc: 0.8543\n",
      "Epoch 12/100\n",
      "23524/23524 [==============================] - 6s 256us/step - loss: 0.3010 - acc: 0.8608 - val_loss: 0.3149 - val_acc: 0.8526\n",
      "Epoch 13/100\n",
      "23524/23524 [==============================] - 6s 257us/step - loss: 0.2997 - acc: 0.8618 - val_loss: 0.3146 - val_acc: 0.8569\n",
      "Epoch 14/100\n",
      "23524/23524 [==============================] - 6s 276us/step - loss: 0.2992 - acc: 0.8599 - val_loss: 0.3154 - val_acc: 0.8555\n"
     ]
    },
    {
     "name": "stderr",
     "output_type": "stream",
     "text": [
      "/home/pkovacs/anaconda3/lib/python3.6/site-packages/ipykernel_launcher.py:28: UserWarning: Update your `Dense` call to the Keras 2 API: `Dense(activation=\"relu\", input_dim=91, units=32, kernel_initializer=\"uniform\")`\n",
      "/home/pkovacs/anaconda3/lib/python3.6/site-packages/ipykernel_launcher.py:30: UserWarning: Update your `Dense` call to the Keras 2 API: `Dense(activation=\"relu\", units=32, kernel_initializer=\"uniform\")`\n"
     ]
    },
    {
     "name": "stdout",
     "output_type": "stream",
     "text": [
      "Train on 23524 samples, validate on 4152 samples\n",
      "Epoch 1/100\n",
      "23524/23524 [==============================] - 7s 292us/step - loss: 0.3543 - acc: 0.8318 - val_loss: 0.3290 - val_acc: 0.8475\n",
      "Epoch 2/100\n",
      "23524/23524 [==============================] - 6s 260us/step - loss: 0.3215 - acc: 0.8505 - val_loss: 0.3182 - val_acc: 0.8567\n",
      "Epoch 3/100\n",
      "23524/23524 [==============================] - 7s 283us/step - loss: 0.3129 - acc: 0.8534 - val_loss: 0.3150 - val_acc: 0.8540\n",
      "Epoch 4/100\n",
      "23524/23524 [==============================] - 6s 252us/step - loss: 0.3075 - acc: 0.8565 - val_loss: 0.3128 - val_acc: 0.8560\n",
      "Epoch 5/100\n",
      "23524/23524 [==============================] - 6s 255us/step - loss: 0.3040 - acc: 0.8587 - val_loss: 0.3159 - val_acc: 0.8555\n",
      "Epoch 6/100\n",
      "23524/23524 [==============================] - 6s 274us/step - loss: 0.3006 - acc: 0.8604 - val_loss: 0.3151 - val_acc: 0.8509\n",
      "Epoch 7/100\n",
      "23524/23524 [==============================] - 6s 270us/step - loss: 0.2981 - acc: 0.8608 - val_loss: 0.3148 - val_acc: 0.8500\n",
      "Epoch 8/100\n",
      "23524/23524 [==============================] - 7s 285us/step - loss: 0.2959 - acc: 0.8631 - val_loss: 0.3127 - val_acc: 0.8584\n",
      "Epoch 9/100\n",
      "23524/23524 [==============================] - 6s 265us/step - loss: 0.2935 - acc: 0.8637 - val_loss: 0.3181 - val_acc: 0.8487\n",
      "Epoch 10/100\n",
      "23524/23524 [==============================] - 6s 264us/step - loss: 0.2912 - acc: 0.8641 - val_loss: 0.3160 - val_acc: 0.8538\n",
      "Epoch 11/100\n",
      "23524/23524 [==============================] - 7s 281us/step - loss: 0.2896 - acc: 0.8655 - val_loss: 0.3206 - val_acc: 0.8581\n",
      "Epoch 12/100\n",
      "23524/23524 [==============================] - 7s 280us/step - loss: 0.2869 - acc: 0.8672 - val_loss: 0.3195 - val_acc: 0.8526\n",
      "Epoch 13/100\n",
      "23524/23524 [==============================] - 7s 278us/step - loss: 0.2849 - acc: 0.8699 - val_loss: 0.3199 - val_acc: 0.8533\n"
     ]
    },
    {
     "name": "stderr",
     "output_type": "stream",
     "text": [
      "/home/pkovacs/anaconda3/lib/python3.6/site-packages/ipykernel_launcher.py:28: UserWarning: Update your `Dense` call to the Keras 2 API: `Dense(activation=\"relu\", input_dim=91, units=64, kernel_initializer=\"uniform\")`\n",
      "/home/pkovacs/anaconda3/lib/python3.6/site-packages/ipykernel_launcher.py:30: UserWarning: Update your `Dense` call to the Keras 2 API: `Dense(activation=\"relu\", units=64, kernel_initializer=\"uniform\")`\n"
     ]
    },
    {
     "name": "stdout",
     "output_type": "stream",
     "text": [
      "Train on 23524 samples, validate on 4152 samples\n",
      "Epoch 1/100\n",
      "23524/23524 [==============================] - 7s 307us/step - loss: 0.3422 - acc: 0.8389 - val_loss: 0.3182 - val_acc: 0.8550\n",
      "Epoch 2/100\n",
      "23524/23524 [==============================] - 8s 321us/step - loss: 0.3180 - acc: 0.8513 - val_loss: 0.3113 - val_acc: 0.8540\n",
      "Epoch 3/100\n",
      "23524/23524 [==============================] - 7s 312us/step - loss: 0.3121 - acc: 0.8539 - val_loss: 0.3101 - val_acc: 0.8550\n",
      "Epoch 4/100\n",
      "23524/23524 [==============================] - 7s 307us/step - loss: 0.3073 - acc: 0.8573 - val_loss: 0.3129 - val_acc: 0.8555\n",
      "Epoch 5/100\n",
      "23524/23524 [==============================] - 7s 303us/step - loss: 0.3033 - acc: 0.8590 - val_loss: 0.3117 - val_acc: 0.8577\n",
      "Epoch 6/100\n",
      "23524/23524 [==============================] - 7s 311us/step - loss: 0.2996 - acc: 0.8589 - val_loss: 0.3122 - val_acc: 0.8557\n",
      "Epoch 7/100\n",
      "23524/23524 [==============================] - 7s 305us/step - loss: 0.2952 - acc: 0.8632 - val_loss: 0.3194 - val_acc: 0.8531\n",
      "Epoch 8/100\n",
      "23524/23524 [==============================] - 7s 306us/step - loss: 0.2928 - acc: 0.8659 - val_loss: 0.3133 - val_acc: 0.8586\n"
     ]
    }
   ],
   "source": [
    "##############################################TODO#######################################################################\n",
    "#A HOLDOUT OR CROSSVALIDATION HAS TO BE ADDED TO KNOW WHEN TO STOP THE TRAINING.\n",
    "#This can be added in a Callback func\n",
    "\n",
    "import keras\n",
    "from keras.models import Sequential\n",
    "from keras.layers import Dense\n",
    "from sklearn.preprocessing import StandardScaler\n",
    "from sklearn.model_selection import train_test_split\n",
    "import time\n",
    "\n",
    "#This fckin scaling is unreasonably important, without this the training radomly jumps and gets stuck in a bad place...\n",
    "#include this in the report, maybe with some shown examples.... (I have no idea why it happens.)\n",
    "\n",
    "sc = StandardScaler()\n",
    "data_feature = sc.fit_transform(data_feature)\n",
    "test_feature = sc.transform(test_feature)\n",
    "\n",
    "data_feature, val_feature, data_label, val_label = train_test_split(data_feature, data_label, test_size=0.15, random_state=42,stratify = data_label)\n",
    "\n",
    "SIZES = [2,4,8,16,32,64]\n",
    "times_scal = np.zeros(len(SIZES))\n",
    "accs_scal = np.zeros(len(SIZES))\n",
    "\n",
    "for i in range(len(SIZES)):\n",
    "    classifier = Sequential()\n",
    "    # Adding the input layer and the first hidden layer\n",
    "    classifier.add(Dense(output_dim = SIZES[i], init = 'uniform', activation = 'relu', input_dim = data_feature.shape[1]))\n",
    "    # Adding the second hidden layer\n",
    "    classifier.add(Dense(output_dim = SIZES[i], init = 'uniform', activation = 'relu'))\n",
    "    # Adding the output layer\n",
    "    classifier.add(Dense(output_dim = 1, init = 'uniform', activation = 'sigmoid'))\n",
    "\n",
    "    classifier.compile(optimizer = 'adam', loss = 'binary_crossentropy', metrics = ['accuracy'])\n",
    "    clb = [keras.callbacks.EarlyStopping(monitor='val_loss', min_delta=0, patience=5, verbose=0, mode='auto', baseline=None, restore_best_weights=True)]\n",
    "    start = time.time()\n",
    "    classifier.fit(data_feature, data_label, batch_size = 8, nb_epoch = 100,validation_data=(val_feature,val_label),callbacks=clb)\n",
    "    times_scal[i]=time.time()-start\n",
    "    y_pred = classifier.predict(test_feature)\n",
    "    y_pred = np.array([int(y>0.5) for y in y_pred])\n",
    "    accs_scal[i]=Accuracy(y_pred,test_label)"
   ]
  },
  {
   "cell_type": "code",
   "execution_count": 13,
   "metadata": {},
   "outputs": [
    {
     "data": {
      "image/png": "[encoded data removed]",
      "text/plain": [
       "<matplotlib.figure.Figure at 0x14ef90b91f60>"
      ]
     },
     "metadata": {},
     "output_type": "display_data"
    }
   ],
   "source": [
    "plt.plot(SIZES,times_scal,label = \"Scaled\")\n",
    "plt.plot(SIZES,times,label = \"Non-scaled\")\n",
    "plt.xlabel(\"Size of one layer\")\n",
    "plt.title(\"Training time (s)\")\n",
    "plt.legend()\n",
    "plt.savefig(\"CensusIncome_NN_traintime.png\")"
   ]
  },
  {
   "cell_type": "code",
   "execution_count": 14,
   "metadata": {
    "scrolled": true
   },
   "outputs": [
    {
     "data": {
      "image/png": "[encoded data removed]",
      "text/plain": [
       "<matplotlib.figure.Figure at 0x14ef93b0f940>"
      ]
     },
     "metadata": {},
     "output_type": "display_data"
    }
   ],
   "source": [
    "plt.plot(SIZES,accs_scal*100,label = \"Scaled\")\n",
    "plt.plot(SIZES,accs*100,label = 'Non-scaled')\n",
    "plt.xlabel(\"Size of one layer\")\n",
    "plt.title(\"Accuracy (%)\")\n",
    "plt.legend()\n",
    "plt.savefig(\"CensusIncome_NN_Accuracy.png\")"
   ]
  },
  {
   "cell_type": "code",
   "execution_count": 15,
   "metadata": {},
   "outputs": [
    {
     "data": {
      "text/plain": [
       "array([[0.9895335 ],\n",
       "       [0.99298805],\n",
       "       [0.99981743],\n",
       "       ...,\n",
       "       [0.24677332],\n",
       "       [0.34382343],\n",
       "       [0.27831224]], dtype=float32)"
      ]
     },
     "execution_count": 15,
     "metadata": {},
     "output_type": "execute_result"
    }
   ],
   "source": [
    "classifier.predict(test_feature)"
   ]
  },
  {
   "cell_type": "code",
   "execution_count": null,
   "metadata": {},
   "outputs": [],
   "source": []
  }
 ],
 "metadata": {
  "kernelspec": {
   "display_name": "Python 3",
   "language": "python",
   "name": "python3"
  },
  "language_info": {
   "codemirror_mode": {
    "name": "ipython",
    "version": 3
   },
   "file_extension": ".py",
   "mimetype": "text/x-python",
   "name": "python",
   "nbconvert_exporter": "python",
   "pygments_lexer": "ipython3",
   "version": "3.6.4"
  }
 },
 "nbformat": 4,
 "nbformat_minor": 2
}

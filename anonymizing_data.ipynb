{
 "cells": [
  {
   "cell_type": "code",
   "execution_count": 16,
   "metadata": {},
   "outputs": [],
   "source": [
    "import pandas as pd"
   ]
  },
  {
   "cell_type": "code",
   "execution_count": 17,
   "metadata": {},
   "outputs": [],
   "source": [
    "names = [\"age\",\"workclass\",\"fnlwgt\",\"education\",\"education-num\",\"marital-status\",\"occupation\",\"relationship\",\"race\",\"sex\",\"capital-gain\",\"capital-loss\",\"hours-per-week\",\"native-country\",\"label\"]"
   ]
  },
  {
   "cell_type": "code",
   "execution_count": 37,
   "metadata": {},
   "outputs": [],
   "source": [
    "census_data = pd.read_csv('./adult.data',header = None,sep=', ',engine='python',na_values='?',names = names)\n",
    "census_test = pd.read_csv('./adult.test',header = None,sep=', ',engine='python',na_values='?',skiprows=[0],names=names)"
   ]
  },
  {
   "cell_type": "code",
   "execution_count": 38,
   "metadata": {},
   "outputs": [],
   "source": [
    "for i in range(census_test.shape[0]):\n",
    "    census_test.iloc[i,-1]=census_test.iloc[i,-1].strip('.')"
   ]
  },
  {
   "cell_type": "code",
   "execution_count": 39,
   "metadata": {},
   "outputs": [],
   "source": [
    "# generalizing ages into bigger groups\n",
    "for i in range(census_data.shape[0]):\n",
    "    #print(census_data.iloc[i,0])\n",
    "    if(census_data.iloc[i,0]<=25):\n",
    "        census_data.iloc[i,0] = '18-25'\n",
    "    elif(census_data.iloc[i,0]>25 and census_data.iloc[i,0]<=35):\n",
    "        census_data.iloc[i,0] = '25-35'\n",
    "    elif(census_data.iloc[i,0]>35 and census_data.iloc[i,0]<=45):\n",
    "        census_data.iloc[i,0] = '35-45'\n",
    "    elif(census_data.iloc[i,0]>45 and census_data.iloc[i,0]<=55):\n",
    "        census_data.iloc[i,0] = '45-55'\n",
    "    elif(census_data.iloc[i,0]>55 and census_data.iloc[i,0]<=65):\n",
    "        census_data.iloc[i,0] = '55-65'\n",
    "    elif(census_data.iloc[i,0]>65 and census_data.iloc[i,0]<=75):\n",
    "        census_data.iloc[i,0] = '65-75'\n",
    "    else:\n",
    "        census_data.iloc[i,0] = '75+'\n",
    "    #print(census_data.iloc[i,0])"
   ]
  },
  {
   "cell_type": "code",
   "execution_count": 40,
   "metadata": {},
   "outputs": [],
   "source": [
    "# generalizing education_num to bigger groups, we should drop the column 3 which is education only because it \n",
    "# is already presented by this number\n",
    "for i in range(census_data.shape[0]):\n",
    "    #print(census_data.iloc[i,4])\n",
    "    if(census_data.iloc[i,4]<=4):\n",
    "        census_data.iloc[i,4] = '1-4'\n",
    "    elif(census_data.iloc[i,4]>4 and census_data.iloc[i,4]<=8):\n",
    "        census_data.iloc[i,4] = '5-8'\n",
    "    elif(census_data.iloc[i,4]>8 and census_data.iloc[i,4]<=12):\n",
    "        census_data.iloc[i,4] = '9-12'\n",
    "    else:\n",
    "        census_data.iloc[i,4] = '13-16'\n",
    "    #print(census_data.iloc[i,4])"
   ]
  },
  {
   "cell_type": "code",
   "execution_count": 41,
   "metadata": {},
   "outputs": [],
   "source": [
    "# generalizing countries into continents\n",
    "for i in range(census_data.shape[0]):\n",
    "    #print(census_data.iloc[i,-2])\n",
    "    if(census_data.iloc[i,-2] == 'United-States' or\n",
    "       census_data.iloc[i,-2] == 'Puerto-Rico' or\n",
    "       census_data.iloc[i,-2] == 'Canada' or \n",
    "       census_data.iloc[i,-2] == 'Outlying-US(Guam-USVI-etc)' or\n",
    "       census_data.iloc[i,-2] == 'Cuba' or\n",
    "       census_data.iloc[i,-2] == 'Honduras' or \n",
    "       census_data.iloc[i,-2] == 'Jamaica' or\n",
    "       census_data.iloc[i,-2] == 'Mexico' or \n",
    "       census_data.iloc[i,-2] == 'Dominican-Republic' or \n",
    "       census_data.iloc[i,-2] == 'Haiti' or\n",
    "       census_data.iloc[i,-2] == 'Guatemala' or\n",
    "       census_data.iloc[i,-2] == 'Nicaragua' or \n",
    "       census_data.iloc[i,-2] == 'El-Salvador' or\n",
    "       census_data.iloc[i,-2] == 'Trinadad&Tobago'):\n",
    "        census_data.iloc[i,-2] = 'North-and-Central-America'\n",
    "    elif(census_data.iloc[i,-2] == 'Cambodia' or\n",
    "        census_data.iloc[i,-2] == 'India' or\n",
    "        census_data.iloc[i,-2] == 'Japan' or \n",
    "        census_data.iloc[i,-2] == 'China' or\n",
    "        census_data.iloc[i,-2] == 'Iran' or\n",
    "        census_data.iloc[i,-2] == 'Philippines' or \n",
    "        census_data.iloc[i,-2] == 'Vietnam' or\n",
    "        census_data.iloc[i,-2] == 'Laos' or\n",
    "        census_data.iloc[i,-2] == 'Taiwan' or\n",
    "        census_data.iloc[i,-2] == 'Thailand' or \n",
    "        census_data.iloc[i,-2] == 'Hong'):\n",
    "        census_data.iloc[i,-2] = 'Asia'\n",
    "    elif(census_data.iloc[i,-2] == 'Columbia' or \n",
    "        census_data.iloc[i,-2] == 'Peru' or \n",
    "        census_data.iloc[i,-2] == 'Ecuador'):\n",
    "        census_data.iloc[i,-2] = 'South-America'\n",
    "    elif(census_data.iloc[i,-2] == 'South'):\n",
    "        census_data.iloc[i,-2] = 'Africa'\n",
    "    else:\n",
    "        census_data.iloc[i,-2] = 'Europe'\n",
    "    #print(census_data.iloc[i,-2])"
   ]
  },
  {
   "cell_type": "code",
   "execution_count": 42,
   "metadata": {},
   "outputs": [],
   "source": [
    "#generalizing race, non-blacks and non-whites to others, pretty sensitive\n",
    "for i in range(census_data.shape[0]):\n",
    "    if(census_data.iloc[i,8] == 'Asian-Pac-Islander' or 'Amer-Indian-Eskimo'):\n",
    "        census_data.iloc[i,8] = 'Other'"
   ]
  },
  {
   "cell_type": "code",
   "execution_count": 43,
   "metadata": {},
   "outputs": [],
   "source": [
    "#generalizing workclass to government, not government and others\n",
    "for i in range(census_data.shape[0]):\n",
    "    if(census_data.iloc[i,1] == 'Private' or 'Self-emp-not-inc' or 'Self-emp-inc'):\n",
    "        census_data.iloc[i,1] = 'Not-gov'\n",
    "    elif(census_data.iloc[i,1] == 'Federal-gov' or 'Local-gov' or 'State-gov'):\n",
    "        census_data.iloc[i,1] = 'Gov'\n",
    "    else:\n",
    "        census_data.iloc[i,1] = 'Other'"
   ]
  },
  {
   "cell_type": "code",
   "execution_count": null,
   "metadata": {},
   "outputs": [],
   "source": []
  }
 ],
 "metadata": {
  "kernelspec": {
   "display_name": "Python 3",
   "language": "python",
   "name": "python3"
  },
  "language_info": {
   "codemirror_mode": {
    "name": "ipython",
    "version": 3
   },
   "file_extension": ".py",
   "mimetype": "text/x-python",
   "name": "python",
   "nbconvert_exporter": "python",
   "pygments_lexer": "ipython3",
   "version": "3.5.2"
  }
 },
 "nbformat": 4,
 "nbformat_minor": 2
}

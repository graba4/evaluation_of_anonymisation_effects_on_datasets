{
 "cells": [
  {
   "cell_type": "code",
   "execution_count": 1,
   "metadata": {},
   "outputs": [],
   "source": [
    "import numpy as np\n",
    "import pandas as pd\n",
    "import time\n",
    "import graphviz\n",
    "import seaborn as sbn\n",
    "import matplotlib.pyplot as plt\n",
    "from sklearn import tree\n",
    "from sklearn import preprocessing\n",
    "import copy"
   ]
  },
  {
   "cell_type": "code",
   "execution_count": 2,
   "metadata": {},
   "outputs": [],
   "source": [
    "names = [\"age\",\"workclass\",\"fnlwgt\",\"education\",\"education-num\",\"marital-status\",\"occupation\",\"relationship\",\"race\",\"sex\",\"capital-gain\",\"capital-loss\",\"hours-per-week\",\"native-country\",\"label\"]"
   ]
  },
  {
   "cell_type": "code",
   "execution_count": 3,
   "metadata": {},
   "outputs": [],
   "source": [
    "census_data = pd.read_csv('./adult.data',header = None,sep=', ',engine='python',na_values='?',names = names)\n",
    "census_test = pd.read_csv('./adult.test',header = None,sep=', ',engine='python',na_values='?',skiprows=[0],names=names)"
   ]
  },
  {
   "cell_type": "code",
   "execution_count": 4,
   "metadata": {},
   "outputs": [],
   "source": [
    "for i in range(census_test.shape[0]):\n",
    "    census_test.iloc[i,-1]=census_test.iloc[i,-1].strip('.')"
   ]
  },
  {
   "cell_type": "code",
   "execution_count": 5,
   "metadata": {},
   "outputs": [],
   "source": [
    "def Accuracy(predicted, truth):\n",
    "    correct = 0\n",
    "    for i in range(len(predicted)):\n",
    "        if predicted[i]==truth.iloc[i]:\n",
    "            correct +=1\n",
    "    return correct/len(predicted)"
   ]
  },
  {
   "cell_type": "code",
   "execution_count": 6,
   "metadata": {},
   "outputs": [],
   "source": [
    "#Preprocessing one-hot\n",
    "# -Remove education column\n",
    "# -Drop NAs\n",
    "# -Splitting to feature and label sets\n",
    "# -ONEHOT\n",
    "def Preproc_ONEHOT(data_in,test_in):\n",
    "    data = data_in.copy()\n",
    "    test = test_in.copy()\n",
    "    data = data.drop([\"education\"],axis = 1)\n",
    "    test = test.drop([\"education\"],axis = 1)\n",
    "    data = data.dropna()\n",
    "    test = test.dropna()\n",
    "    \n",
    "    len_data = data.shape[0]\n",
    "    len_test = test.shape[0]\n",
    "    \n",
    "    result = pd.concat([data,test])\n",
    "    \n",
    "    result_label = result.iloc[:,-1]\n",
    "    result = result.iloc[:,:-1]\n",
    "    \n",
    "    categoricals = [\"workclass\",\"marital-status\",\"occupation\",\"relationship\",\"race\",\"sex\",\"native-country\"]\n",
    "\n",
    "    for i in range(len(categoricals)):\n",
    "        result[categoricals[i]]=pd.Categorical(result[categoricals[i]])\n",
    "        onehot = pd.get_dummies(result[categoricals[i]], prefix = categoricals[i])\n",
    "        result = result.drop([categoricals[i]],axis = 1)\n",
    "        result = pd.concat([result, onehot], axis=1)\n",
    "    \n",
    "    data_feature = result.iloc[0:len_data,:]\n",
    "    data_label = result_label.iloc[0:len_data]\n",
    "    test_feature = result.iloc[len_data:,:]\n",
    "    test_label = result_label.iloc[len_data:]\n",
    "    \n",
    "    return (data_feature,data_label,test_feature,test_label)   "
   ]
  },
  {
   "cell_type": "code",
   "execution_count": 7,
   "metadata": {},
   "outputs": [],
   "source": [
    "data_feature, data_label,test_feature, test_label = Preproc_ONEHOT(census_data,census_test)"
   ]
  },
  {
   "cell_type": "code",
   "execution_count": 8,
   "metadata": {},
   "outputs": [
    {
     "name": "stdout",
     "output_type": "stream",
     "text": [
      "Minimum expected accuracy: 75.10775147536636\n",
      "Minimum expected accuracy: 75.4316069057105\n"
     ]
    }
   ],
   "source": [
    "print(\"Minimum expected accuracy: \"+str(data_label.value_counts().max()/data_label.value_counts().sum()*100))\n",
    "print(\"Minimum expected accuracy: \"+str(test_label.value_counts().max()/test_label.value_counts().sum()*100))"
   ]
  },
  {
   "cell_type": "code",
   "execution_count": 9,
   "metadata": {},
   "outputs": [
    {
     "data": {
      "text/plain": [
       "(30162, 88)"
      ]
     },
     "execution_count": 9,
     "metadata": {},
     "output_type": "execute_result"
    }
   ],
   "source": [
    "data_feature.shape"
   ]
  },
  {
   "cell_type": "code",
   "execution_count": 9,
   "metadata": {},
   "outputs": [],
   "source": [
    "#Gini classifier\n",
    "MAX_DEPTHS = [2,4,6,8,10,15,30]\n",
    "MIN_LEAVES = [1,2,4,6,10,20,40,70,150,500,1000]\n",
    "results = np.zeros((len(MAX_DEPTHS),len(MIN_LEAVES)))\n",
    "traintime = np.zeros((len(MAX_DEPTHS),len(MIN_LEAVES)))\n",
    "evaltime = np.zeros((len(MAX_DEPTHS),len(MIN_LEAVES)))"
   ]
  },
  {
   "cell_type": "code",
   "execution_count": 10,
   "metadata": {},
   "outputs": [],
   "source": [
    "best_gini = None\n",
    "best_acc = 0\n",
    "for i in range(len(MAX_DEPTHS)):\n",
    "    for j in range(len(MIN_LEAVES)):\n",
    "        for helper in range(1):\n",
    "            clf_gini = tree.DecisionTreeClassifier(criterion = \"gini\", random_state = 100,\n",
    "                                   max_depth=MAX_DEPTHS[i], min_samples_leaf=MIN_LEAVES[j])\n",
    "            currtime = time.time()\n",
    "            clf_gini.fit(data_feature, data_label)\n",
    "            traintime[i,j]+=time.time()-currtime\n",
    "            currtime = time.time()\n",
    "            prediction=clf_gini.predict(test_feature)\n",
    "            evaltime[i,j]+=time.time()-currtime\n",
    "            results[i,j]+=Accuracy(prediction,test_label)\n",
    "        if results[i,j]>best_acc:\n",
    "            best_acc=results[i,j]\n",
    "            best_gini=copy.deepcopy(clf_gini)"
   ]
  },
  {
   "cell_type": "code",
   "execution_count": 11,
   "metadata": {},
   "outputs": [
    {
     "data": {
      "image/png": "[encoded data removed]",
      "text/plain": [
       "<matplotlib.figure.Figure at 0x14f5b7a03588>"
      ]
     },
     "metadata": {},
     "output_type": "display_data"
    }
   ],
   "source": [
    "sbn.heatmap(results*100,xticklabels=MIN_LEAVES,yticklabels=MAX_DEPTHS)\n",
    "plt.xlabel(\"MIN_LEAVES\")\n",
    "plt.ylabel(\"MAX_DEPTH\")\n",
    "plt.title(\"Accuracy (%)\")\n",
    "plt.savefig(\"CensusIncome_Acc_gini.png\")"
   ]
  },
  {
   "cell_type": "code",
   "execution_count": 12,
   "metadata": {},
   "outputs": [
    {
     "data": {
      "image/png": "[encoded data removed]",
      "text/plain": [
       "<matplotlib.figure.Figure at 0x14f5b80d2518>"
      ]
     },
     "metadata": {},
     "output_type": "display_data"
    }
   ],
   "source": [
    "sbn.heatmap(traintime/1,xticklabels=MIN_LEAVES,yticklabels=MAX_DEPTHS)\n",
    "plt.xlabel(\"MIN_LEAVES\")\n",
    "plt.ylabel(\"MAX_DEPTH\")\n",
    "plt.title(\"Traintime (s)\")\n",
    "plt.savefig(\"CensusIncome_Train_gini.png\")"
   ]
  },
  {
   "cell_type": "code",
   "execution_count": 13,
   "metadata": {},
   "outputs": [
    {
     "data": {
      "image/png": "[encoded data removed]",
      "text/plain": [
       "<matplotlib.figure.Figure at 0x14f5b7eee2e8>"
      ]
     },
     "metadata": {},
     "output_type": "display_data"
    }
   ],
   "source": [
    "sbn.heatmap(evaltime/1,xticklabels=MIN_LEAVES,yticklabels=MAX_DEPTHS)\n",
    "plt.xlabel(\"MIN_LEAVES\")\n",
    "plt.ylabel(\"MAX_DEPTH\")\n",
    "plt.title(\"Evaluation time (s)\")\n",
    "plt.savefig(\"CensusIncome_Eval_gini.png\")"
   ]
  },
  {
   "cell_type": "code",
   "execution_count": 14,
   "metadata": {},
   "outputs": [
    {
     "data": {
      "text/plain": [
       "'CensusIncome_GiniTree.pdf'"
      ]
     },
     "execution_count": 14,
     "metadata": {},
     "output_type": "execute_result"
    }
   ],
   "source": [
    "#With this we can make fancy pictures to show in presentation if we want to present this, also looks cool in the report\n",
    "\n",
    "dot_data = tree.export_graphviz(best_gini, out_file=None) \n",
    "graph = graphviz.Source(dot_data) \n",
    "graph.render(\"CensusIncome_GiniTree\") "
   ]
  },
  {
   "cell_type": "code",
   "execution_count": 15,
   "metadata": {},
   "outputs": [
    {
     "data": {
      "text/plain": [
       "array([[10700,   660],\n",
       "       [ 1483,  2217]])"
      ]
     },
     "execution_count": 15,
     "metadata": {},
     "output_type": "execute_result"
    }
   ],
   "source": [
    "from sklearn.metrics import confusion_matrix\n",
    "prediction=best_gini.predict(test_feature)\n",
    "confusion_matrix(test_label, prediction)"
   ]
  },
  {
   "cell_type": "code",
   "execution_count": 16,
   "metadata": {},
   "outputs": [],
   "source": [
    "#Entropy classifier\n",
    "MAX_DEPTHS = [2,4,6,8,10,15,30]\n",
    "MIN_LEAVES = [1,2,4,6,10,20,40,70,150,500,1000]\n",
    "results = np.zeros((len(MAX_DEPTHS),len(MIN_LEAVES)))\n",
    "traintime = np.zeros((len(MAX_DEPTHS),len(MIN_LEAVES)))\n",
    "evaltime = np.zeros((len(MAX_DEPTHS),len(MIN_LEAVES)))"
   ]
  },
  {
   "cell_type": "code",
   "execution_count": 17,
   "metadata": {},
   "outputs": [],
   "source": [
    "best_entrop = None\n",
    "best_acc = 0\n",
    "for i in range(len(MAX_DEPTHS)):\n",
    "    for j in range(len(MIN_LEAVES)):\n",
    "        for helper in range(1):\n",
    "            clf_gini = tree.DecisionTreeClassifier(criterion = \"entropy\", random_state = 100,\n",
    "                                   max_depth=MAX_DEPTHS[i], min_samples_leaf=MIN_LEAVES[j])\n",
    "            currtime = time.time()\n",
    "            clf_gini.fit(data_feature, data_label)\n",
    "            traintime[i,j]+=time.time()-currtime\n",
    "            currtime = time.time()\n",
    "            prediction=clf_gini.predict(test_feature)\n",
    "            evaltime[i,j]+=time.time()-currtime\n",
    "            results[i,j]+=Accuracy(prediction,test_label)\n",
    "        if results[i,j]>best_acc:\n",
    "            best_acc=results[i,j]\n",
    "            best_entrop=copy.deepcopy(clf_gini)"
   ]
  },
  {
   "cell_type": "code",
   "execution_count": 18,
   "metadata": {},
   "outputs": [
    {
     "data": {
      "image/png": "[encoded data removed]",
      "text/plain": [
       "<matplotlib.figure.Figure at 0x14f5b8134780>"
      ]
     },
     "metadata": {},
     "output_type": "display_data"
    }
   ],
   "source": [
    "sbn.heatmap(results*100,xticklabels=MIN_LEAVES,yticklabels=MAX_DEPTHS)\n",
    "plt.xlabel(\"MIN_LEAVES\")\n",
    "plt.ylabel(\"MAX_DEPTH\")\n",
    "plt.title(\"Accuracy (%)\")\n",
    "plt.savefig(\"CensusIncome_Acc_entrop.png\")"
   ]
  },
  {
   "cell_type": "code",
   "execution_count": 19,
   "metadata": {},
   "outputs": [
    {
     "data": {
      "image/png": "[encoded data removed]",
      "text/plain": [
       "<matplotlib.figure.Figure at 0x14f5b7db9390>"
      ]
     },
     "metadata": {},
     "output_type": "display_data"
    }
   ],
   "source": [
    "sbn.heatmap(traintime/1,xticklabels=MIN_LEAVES,yticklabels=MAX_DEPTHS)\n",
    "plt.xlabel(\"MIN_LEAVES\")\n",
    "plt.ylabel(\"MAX_DEPTH\")\n",
    "plt.title(\"Traintime (s)\")\n",
    "plt.savefig(\"CensusIncome_Train_entrop.png\")"
   ]
  },
  {
   "cell_type": "code",
   "execution_count": 20,
   "metadata": {},
   "outputs": [
    {
     "data": {
      "image/png": "[encoded data removed]",
      "text/plain": [
       "<matplotlib.figure.Figure at 0x14f5b7d5f128>"
      ]
     },
     "metadata": {},
     "output_type": "display_data"
    }
   ],
   "source": [
    "sbn.heatmap(evaltime/1,xticklabels=MIN_LEAVES,yticklabels=MAX_DEPTHS)\n",
    "plt.xlabel(\"MIN_LEAVES\")\n",
    "plt.ylabel(\"MAX_DEPTH\")\n",
    "plt.title(\"Evaluation time (s)\")\n",
    "plt.savefig(\"CensusIncome_Eval_entrop.png\")"
   ]
  },
  {
   "cell_type": "code",
   "execution_count": 21,
   "metadata": {},
   "outputs": [
    {
     "data": {
      "text/plain": [
       "array([[10545,   815],\n",
       "       [ 1908,  1792]])"
      ]
     },
     "execution_count": 21,
     "metadata": {},
     "output_type": "execute_result"
    }
   ],
   "source": [
    "from sklearn.metrics import confusion_matrix\n",
    "confusion_matrix(test_label, prediction)"
   ]
  },
  {
   "cell_type": "code",
   "execution_count": 22,
   "metadata": {},
   "outputs": [
    {
     "data": {
      "text/plain": [
       "'CensusIncome_EntropyTree.pdf'"
      ]
     },
     "execution_count": 22,
     "metadata": {},
     "output_type": "execute_result"
    }
   ],
   "source": [
    "#With this we can make fancy pictures to show in presentation if we want to present this, also looks cool in the report\n",
    "\n",
    "dot_data = tree.export_graphviz(best_entrop, out_file=None) \n",
    "graph = graphviz.Source(dot_data) \n",
    "graph.render(\"CensusIncome_EntropyTree\") "
   ]
  },
  {
   "cell_type": "code",
   "execution_count": 23,
   "metadata": {},
   "outputs": [
    {
     "data": {
      "text/plain": [
       "array([[10803,   557],\n",
       "       [ 1583,  2117]])"
      ]
     },
     "execution_count": 23,
     "metadata": {},
     "output_type": "execute_result"
    }
   ],
   "source": [
    "from sklearn.metrics import confusion_matrix\n",
    "prediction=best_entrop.predict(test_feature)\n",
    "confusion_matrix(test_label, prediction)"
   ]
  }
 ],
 "metadata": {
  "kernelspec": {
   "display_name": "Python 3",
   "language": "python",
   "name": "python3"
  },
  "language_info": {
   "codemirror_mode": {
    "name": "ipython",
    "version": 3
   },
   "file_extension": ".py",
   "mimetype": "text/x-python",
   "name": "python",
   "nbconvert_exporter": "python",
   "pygments_lexer": "ipython3",
   "version": "3.5.2"
  }
 },
 "nbformat": 4,
 "nbformat_minor": 2
}

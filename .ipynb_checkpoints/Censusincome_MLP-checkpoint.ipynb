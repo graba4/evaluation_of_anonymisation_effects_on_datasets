{
 "cells": [
  {
   "cell_type": "code",
   "execution_count": 19,
   "metadata": {},
   "outputs": [],
   "source": [
    "import numpy as np\n",
    "import pandas as pd\n",
    "import time\n",
    "import graphviz\n",
    "import seaborn as sbn\n",
    "import matplotlib.pyplot as plt\n",
    "from sklearn import tree\n",
    "from sklearn import preprocessing\n",
    "from sklearn.neural_network import MLPClassifier"
   ]
  },
  {
   "cell_type": "code",
   "execution_count": 20,
   "metadata": {},
   "outputs": [],
   "source": [
    "names = [\"age\",\"workclass\",\"fnlwgt\",\"education\",\"education-num\",\"marital-status\",\"occupation\",\"relationship\",\"race\",\"sex\",\"capital-gain\",\"capital-loss\",\"hours-per-week\",\"native-country\",\"label\"]"
   ]
  },
  {
   "cell_type": "code",
   "execution_count": 21,
   "metadata": {},
   "outputs": [],
   "source": [
    "census_data = pd.read_csv('./adult.data',header = None,sep=', ',engine='python',na_values='?',names = names)\n",
    "census_test = pd.read_csv('./adult.test',header = None,sep=', ',engine='python',na_values='?',skiprows=[0],names=names)"
   ]
  },
  {
   "cell_type": "code",
   "execution_count": 22,
   "metadata": {},
   "outputs": [],
   "source": [
    "for i in range(census_test.shape[0]):\n",
    "    census_test.iloc[i,-1]=census_test.iloc[i,-1].strip('.')"
   ]
  },
  {
   "cell_type": "code",
   "execution_count": 23,
   "metadata": {},
   "outputs": [],
   "source": [
    "def Accuracy(predicted, truth):\n",
    "    correct = 0\n",
    "    for i in range(len(predicted)):\n",
    "        if predicted[i]==truth.iloc[i]:\n",
    "            correct +=1\n",
    "    return correct/len(predicted)"
   ]
  },
  {
   "cell_type": "code",
   "execution_count": 24,
   "metadata": {},
   "outputs": [],
   "source": [
    "#Preprocessing one-hot\n",
    "# -Remove education column\n",
    "# -Drop NAs\n",
    "# -Splitting to feature and label sets\n",
    "# -ONEHOT\n",
    "def Preproc_ONEHOT(data_in,test_in):\n",
    "    data = data_in.copy()\n",
    "    test = test_in.copy()\n",
    "    data = data.drop([\"education\"],axis = 1)\n",
    "    test = test.drop([\"education\"],axis = 1)\n",
    "    data = data.drop([\"fnlwgt\"],axis = 1) #ONLY HERE\n",
    "    test = test.drop([\"fnlwgt\"],axis = 1) #ONLY HERE\n",
    "    data = data.dropna()\n",
    "    test = test.dropna()\n",
    "    \n",
    "    len_data = data.shape[0]\n",
    "    len_test = test.shape[0]\n",
    "    \n",
    "    result = pd.concat([data,test])\n",
    "    \n",
    "    result_label = result.iloc[:,-1]\n",
    "    result = result.iloc[:,:-1]\n",
    "    \n",
    "    categoricals = [\"workclass\",\"marital-status\",\"occupation\",\"relationship\",\"race\",\"sex\",\"native-country\"]\n",
    "\n",
    "    for i in range(len(categoricals)):\n",
    "        result[categoricals[i]]=pd.Categorical(result[categoricals[i]])\n",
    "        onehot = pd.get_dummies(result[categoricals[i]], prefix = categoricals[i])\n",
    "        result = result.drop([categoricals[i]],axis = 1)\n",
    "        result = pd.concat([result, onehot], axis=1)\n",
    "    \n",
    "    data_feature = result.iloc[0:len_data,:]\n",
    "    data_label = result_label.iloc[0:len_data]\n",
    "    test_feature = result.iloc[len_data:,:]\n",
    "    test_label = result_label.iloc[len_data:]\n",
    "    \n",
    "    return (data_feature,data_label,test_feature,test_label)   "
   ]
  },
  {
   "cell_type": "code",
   "execution_count": 25,
   "metadata": {},
   "outputs": [],
   "source": [
    "data_feature, data_label,test_feature, test_label = Preproc_ONEHOT(census_data,census_test)"
   ]
  },
  {
   "cell_type": "code",
   "execution_count": 26,
   "metadata": {},
   "outputs": [
    {
     "name": "stdout",
     "output_type": "stream",
     "text": [
      "Minimum expected accuracy: 75.10775147536636\n",
      "Minimum expected accuracy: 75.4316069057105\n"
     ]
    }
   ],
   "source": [
    "print(\"Minimum expected accuracy: \"+str(data_label.value_counts().max()/data_label.value_counts().sum()*100))\n",
    "print(\"Minimum expected accuracy: \"+str(test_label.value_counts().max()/test_label.value_counts().sum()*100))"
   ]
  },
  {
   "cell_type": "code",
   "execution_count": 27,
   "metadata": {},
   "outputs": [],
   "source": [
    "#Converting labels to 0-1\n",
    "for i in range(data_label.shape[0]):\n",
    "    data_label.iloc[i]=int(\"<\" in data_label.iloc[i])\n",
    "for i in range(test_label.shape[0]):\n",
    "    test_label.iloc[i]=int(\"<\" in test_label.iloc[i])"
   ]
  },
  {
   "cell_type": "code",
   "execution_count": 28,
   "metadata": {},
   "outputs": [
    {
     "name": "stderr",
     "output_type": "stream",
     "text": [
      "/home/pkovacs/anaconda3/lib/python3.6/site-packages/ipykernel_launcher.py:18: UserWarning: Update your `Dense` call to the Keras 2 API: `Dense(activation=\"relu\", input_dim=87, units=2, kernel_initializer=\"uniform\")`\n",
      "/home/pkovacs/anaconda3/lib/python3.6/site-packages/ipykernel_launcher.py:20: UserWarning: Update your `Dense` call to the Keras 2 API: `Dense(activation=\"relu\", units=2, kernel_initializer=\"uniform\")`\n",
      "/home/pkovacs/anaconda3/lib/python3.6/site-packages/ipykernel_launcher.py:22: UserWarning: Update your `Dense` call to the Keras 2 API: `Dense(activation=\"sigmoid\", units=1, kernel_initializer=\"uniform\")`\n",
      "/home/pkovacs/anaconda3/lib/python3.6/site-packages/ipykernel_launcher.py:27: UserWarning: The `nb_epoch` argument in `fit` has been renamed `epochs`.\n"
     ]
    },
    {
     "name": "stdout",
     "output_type": "stream",
     "text": [
      "Train on 25637 samples, validate on 4525 samples\n",
      "Epoch 1/100\n",
      "25637/25637 [==============================] - 9s 338us/step - loss: 0.5342 - acc: 0.7902 - val_loss: 0.4962 - val_acc: 0.8035\n",
      "Epoch 2/100\n",
      "25637/25637 [==============================] - 9s 353us/step - loss: 0.4955 - acc: 0.7968 - val_loss: 0.4946 - val_acc: 0.8011\n",
      "Epoch 3/100\n",
      "25637/25637 [==============================] - 7s 265us/step - loss: 0.4946 - acc: 0.7986 - val_loss: 0.4969 - val_acc: 0.7892\n",
      "Epoch 4/100\n",
      "25637/25637 [==============================] - 7s 287us/step - loss: 0.4939 - acc: 0.7984 - val_loss: 0.4945 - val_acc: 0.7960\n",
      "Epoch 5/100\n",
      "25637/25637 [==============================] - 8s 295us/step - loss: 0.4930 - acc: 0.8001 - val_loss: 0.4929 - val_acc: 0.7954\n",
      "Epoch 6/100\n",
      "25637/25637 [==============================] - 7s 280us/step - loss: 0.4924 - acc: 0.8001 - val_loss: 0.4909 - val_acc: 0.8002\n",
      "Epoch 7/100\n",
      "25637/25637 [==============================] - 7s 283us/step - loss: 0.4918 - acc: 0.8011 - val_loss: 0.4897 - val_acc: 0.8049\n",
      "Epoch 8/100\n",
      "25637/25637 [==============================] - 7s 270us/step - loss: 0.4903 - acc: 0.8015 - val_loss: 0.4895 - val_acc: 0.8002\n",
      "Epoch 9/100\n",
      "25637/25637 [==============================] - 7s 273us/step - loss: 0.4898 - acc: 0.8032 - val_loss: 0.4879 - val_acc: 0.8004\n",
      "Epoch 10/100\n",
      "25637/25637 [==============================] - 7s 283us/step - loss: 0.4883 - acc: 0.8042 - val_loss: 0.4848 - val_acc: 0.8082\n",
      "Epoch 11/100\n",
      "25637/25637 [==============================] - 7s 285us/step - loss: 0.4875 - acc: 0.8045 - val_loss: 0.4873 - val_acc: 0.8046\n",
      "Epoch 12/100\n",
      "25637/25637 [==============================] - 7s 282us/step - loss: 0.4865 - acc: 0.8054 - val_loss: 0.4828 - val_acc: 0.8069\n",
      "Epoch 13/100\n",
      "25637/25637 [==============================] - 7s 277us/step - loss: 0.5449 - acc: 0.7658 - val_loss: 0.5453 - val_acc: 0.7644\n",
      "Epoch 14/100\n",
      "25637/25637 [==============================] - 7s 275us/step - loss: 0.5453 - acc: 0.7645 - val_loss: 0.5499 - val_acc: 0.7573\n",
      "Epoch 15/100\n",
      "25637/25637 [==============================] - 7s 282us/step - loss: 0.5187 - acc: 0.7749 - val_loss: 0.4779 - val_acc: 0.7905\n",
      "Epoch 16/100\n",
      "25637/25637 [==============================] - 8s 295us/step - loss: 0.4771 - acc: 0.7927 - val_loss: 0.4676 - val_acc: 0.7951\n",
      "Epoch 17/100\n",
      "25637/25637 [==============================] - 7s 277us/step - loss: 0.4716 - acc: 0.7949 - val_loss: 0.4631 - val_acc: 0.7982\n",
      "Epoch 18/100\n",
      "25637/25637 [==============================] - 7s 274us/step - loss: 0.4680 - acc: 0.7975 - val_loss: 0.4607 - val_acc: 0.8020\n",
      "Epoch 19/100\n",
      "25637/25637 [==============================] - 7s 279us/step - loss: 0.4658 - acc: 0.7991 - val_loss: 0.4632 - val_acc: 0.8024\n",
      "Epoch 20/100\n",
      "25637/25637 [==============================] - 7s 275us/step - loss: 0.4639 - acc: 0.8000 - val_loss: 0.4591 - val_acc: 0.8020\n",
      "Epoch 21/100\n",
      "25637/25637 [==============================] - 7s 275us/step - loss: 0.4626 - acc: 0.8008 - val_loss: 0.4601 - val_acc: 0.7998\n",
      "Epoch 22/100\n",
      "25637/25637 [==============================] - 7s 276us/step - loss: 0.4610 - acc: 0.8013 - val_loss: 0.4562 - val_acc: 0.8053\n",
      "Epoch 23/100\n",
      "25637/25637 [==============================] - 7s 276us/step - loss: 0.4600 - acc: 0.8018 - val_loss: 0.4550 - val_acc: 0.8053\n",
      "Epoch 24/100\n",
      "25637/25637 [==============================] - 7s 275us/step - loss: 0.4593 - acc: 0.8030 - val_loss: 0.4537 - val_acc: 0.8073\n",
      "Epoch 25/100\n",
      "25637/25637 [==============================] - 7s 276us/step - loss: 0.4588 - acc: 0.8033 - val_loss: 0.4534 - val_acc: 0.8062\n",
      "Epoch 26/100\n",
      "25637/25637 [==============================] - 7s 275us/step - loss: 0.4581 - acc: 0.8018 - val_loss: 0.4533 - val_acc: 0.8057\n",
      "Epoch 27/100\n",
      "25637/25637 [==============================] - 7s 275us/step - loss: 0.4571 - acc: 0.8036 - val_loss: 0.4561 - val_acc: 0.8046\n",
      "Epoch 28/100\n",
      "25637/25637 [==============================] - 7s 276us/step - loss: 0.4567 - acc: 0.8044 - val_loss: 0.4556 - val_acc: 0.8046\n",
      "Epoch 29/100\n",
      "25637/25637 [==============================] - 7s 276us/step - loss: 0.4565 - acc: 0.8033 - val_loss: 0.4544 - val_acc: 0.8108\n",
      "Epoch 30/100\n",
      "25637/25637 [==============================] - 7s 276us/step - loss: 0.4561 - acc: 0.8048 - val_loss: 0.4560 - val_acc: 0.8057\n",
      "Epoch 31/100\n",
      "25637/25637 [==============================] - 7s 277us/step - loss: 0.4559 - acc: 0.8042 - val_loss: 0.4546 - val_acc: 0.8062\n"
     ]
    },
    {
     "name": "stderr",
     "output_type": "stream",
     "text": [
      "/home/pkovacs/anaconda3/lib/python3.6/site-packages/ipykernel_launcher.py:18: UserWarning: Update your `Dense` call to the Keras 2 API: `Dense(activation=\"relu\", input_dim=87, units=4, kernel_initializer=\"uniform\")`\n",
      "/home/pkovacs/anaconda3/lib/python3.6/site-packages/ipykernel_launcher.py:20: UserWarning: Update your `Dense` call to the Keras 2 API: `Dense(activation=\"relu\", units=4, kernel_initializer=\"uniform\")`\n"
     ]
    },
    {
     "name": "stdout",
     "output_type": "stream",
     "text": [
      "Train on 25637 samples, validate on 4525 samples\n",
      "Epoch 1/100\n",
      "25637/25637 [==============================] - 7s 286us/step - loss: 0.6682 - acc: 0.7592 - val_loss: 1.1898 - val_acc: 0.7854\n",
      "Epoch 2/100\n",
      "25637/25637 [==============================] - 7s 267us/step - loss: 1.1745 - acc: 0.7836 - val_loss: 1.1778 - val_acc: 0.7890\n",
      "Epoch 3/100\n",
      "25637/25637 [==============================] - 7s 267us/step - loss: 1.1657 - acc: 0.7857 - val_loss: 1.1728 - val_acc: 0.7929\n",
      "Epoch 4/100\n",
      "25637/25637 [==============================] - 7s 266us/step - loss: 1.1620 - acc: 0.7877 - val_loss: 1.1724 - val_acc: 0.7934\n",
      "Epoch 5/100\n",
      "25637/25637 [==============================] - 7s 266us/step - loss: 1.1591 - acc: 0.7879 - val_loss: 1.1742 - val_acc: 0.7901\n",
      "Epoch 6/100\n",
      "25637/25637 [==============================] - 7s 266us/step - loss: 1.1571 - acc: 0.7878 - val_loss: 1.1733 - val_acc: 0.7878\n",
      "Epoch 7/100\n",
      "25637/25637 [==============================] - 7s 266us/step - loss: 1.1570 - acc: 0.7888 - val_loss: 1.1727 - val_acc: 0.7934\n",
      "Epoch 8/100\n",
      "25637/25637 [==============================] - 7s 268us/step - loss: 1.1556 - acc: 0.7892 - val_loss: 1.1708 - val_acc: 0.7960\n",
      "Epoch 9/100\n",
      "25637/25637 [==============================] - 7s 267us/step - loss: 1.3041 - acc: 0.7898 - val_loss: 1.5105 - val_acc: 0.7949\n",
      "Epoch 10/100\n",
      "25637/25637 [==============================] - 7s 274us/step - loss: 1.3419 - acc: 0.7896 - val_loss: 1.1727 - val_acc: 0.7903\n",
      "Epoch 11/100\n",
      "25637/25637 [==============================] - 7s 282us/step - loss: 1.1539 - acc: 0.7889 - val_loss: 1.1692 - val_acc: 0.7943\n",
      "Epoch 12/100\n",
      "25637/25637 [==============================] - 7s 284us/step - loss: 1.1538 - acc: 0.7919 - val_loss: 1.1816 - val_acc: 0.7901\n",
      "Epoch 13/100\n",
      "25637/25637 [==============================] - 7s 272us/step - loss: 1.1527 - acc: 0.7907 - val_loss: 1.1728 - val_acc: 0.7903\n",
      "Epoch 14/100\n",
      "25637/25637 [==============================] - 7s 269us/step - loss: 1.1521 - acc: 0.7922 - val_loss: 1.1673 - val_acc: 0.7985\n",
      "Epoch 15/100\n",
      "25637/25637 [==============================] - 7s 268us/step - loss: 1.2843 - acc: 0.7910 - val_loss: 1.5060 - val_acc: 0.7993\n",
      "Epoch 16/100\n",
      "25637/25637 [==============================] - 7s 269us/step - loss: 1.2407 - acc: 0.7937 - val_loss: 1.1663 - val_acc: 0.7982\n",
      "Epoch 17/100\n",
      "25637/25637 [==============================] - 7s 268us/step - loss: 1.1507 - acc: 0.7937 - val_loss: 1.1677 - val_acc: 0.7956\n",
      "Epoch 18/100\n",
      "25637/25637 [==============================] - 7s 268us/step - loss: 1.3765 - acc: 0.7924 - val_loss: 1.5070 - val_acc: 0.7982\n",
      "Epoch 19/100\n",
      "25637/25637 [==============================] - 7s 272us/step - loss: 1.5101 - acc: 0.7913 - val_loss: 1.5056 - val_acc: 0.7982\n",
      "Epoch 20/100\n",
      "25637/25637 [==============================] - 7s 269us/step - loss: 1.5101 - acc: 0.7916 - val_loss: 1.5089 - val_acc: 0.7987\n",
      "Epoch 21/100\n",
      "25637/25637 [==============================] - 7s 268us/step - loss: 1.5107 - acc: 0.7921 - val_loss: 1.5055 - val_acc: 0.7993\n"
     ]
    },
    {
     "name": "stderr",
     "output_type": "stream",
     "text": [
      "/home/pkovacs/anaconda3/lib/python3.6/site-packages/ipykernel_launcher.py:18: UserWarning: Update your `Dense` call to the Keras 2 API: `Dense(activation=\"relu\", input_dim=87, units=8, kernel_initializer=\"uniform\")`\n",
      "/home/pkovacs/anaconda3/lib/python3.6/site-packages/ipykernel_launcher.py:20: UserWarning: Update your `Dense` call to the Keras 2 API: `Dense(activation=\"relu\", units=8, kernel_initializer=\"uniform\")`\n"
     ]
    },
    {
     "name": "stdout",
     "output_type": "stream",
     "text": [
      "Train on 25637 samples, validate on 4525 samples\n",
      "Epoch 1/100\n",
      "25637/25637 [==============================] - 7s 291us/step - loss: 0.4463 - acc: 0.7807 - val_loss: 0.3757 - val_acc: 0.7772\n",
      "Epoch 2/100\n",
      "25637/25637 [==============================] - 7s 270us/step - loss: 0.3726 - acc: 0.8059 - val_loss: 0.3510 - val_acc: 0.8263\n",
      "Epoch 3/100\n",
      "25637/25637 [==============================] - 7s 270us/step - loss: 0.4862 - acc: 0.8228 - val_loss: 0.6921 - val_acc: 0.8274\n",
      "Epoch 4/100\n",
      "25637/25637 [==============================] - 7s 270us/step - loss: 0.5057 - acc: 0.8258 - val_loss: 0.3440 - val_acc: 0.8336\n",
      "Epoch 5/100\n",
      "25637/25637 [==============================] - 7s 270us/step - loss: 0.3523 - acc: 0.8272 - val_loss: 0.3556 - val_acc: 0.8283\n",
      "Epoch 6/100\n",
      "25637/25637 [==============================] - 7s 269us/step - loss: 0.3477 - acc: 0.8288 - val_loss: 0.3425 - val_acc: 0.8343\n",
      "Epoch 7/100\n",
      "25637/25637 [==============================] - 7s 272us/step - loss: 0.4437 - acc: 0.8309 - val_loss: 0.6786 - val_acc: 0.8391\n",
      "Epoch 8/100\n",
      "25637/25637 [==============================] - 7s 271us/step - loss: 0.6318 - acc: 0.8312 - val_loss: 0.3386 - val_acc: 0.8323\n",
      "Epoch 9/100\n",
      "25637/25637 [==============================] - 7s 271us/step - loss: 0.3408 - acc: 0.8307 - val_loss: 0.3437 - val_acc: 0.8371\n",
      "Epoch 10/100\n",
      "25637/25637 [==============================] - 7s 269us/step - loss: 0.3409 - acc: 0.8325 - val_loss: 0.3727 - val_acc: 0.8077\n",
      "Epoch 11/100\n",
      "25637/25637 [==============================] - 7s 269us/step - loss: 0.3400 - acc: 0.8319 - val_loss: 0.3323 - val_acc: 0.8404\n",
      "Epoch 12/100\n",
      "25637/25637 [==============================] - 7s 269us/step - loss: 0.3401 - acc: 0.8302 - val_loss: 0.3376 - val_acc: 0.8396\n",
      "Epoch 13/100\n",
      "25637/25637 [==============================] - 7s 270us/step - loss: 0.3369 - acc: 0.8337 - val_loss: 0.3396 - val_acc: 0.8391\n",
      "Epoch 14/100\n",
      "25637/25637 [==============================] - 7s 270us/step - loss: 0.3372 - acc: 0.8331 - val_loss: 0.5342 - val_acc: 0.8442\n",
      "Epoch 15/100\n",
      "25637/25637 [==============================] - 7s 268us/step - loss: 0.5435 - acc: 0.8331 - val_loss: 0.3360 - val_acc: 0.8336\n",
      "Epoch 16/100\n",
      "25637/25637 [==============================] - 7s 269us/step - loss: 0.3350 - acc: 0.8350 - val_loss: 0.3307 - val_acc: 0.8420\n",
      "Epoch 17/100\n",
      "25637/25637 [==============================] - 7s 270us/step - loss: 0.3359 - acc: 0.8338 - val_loss: 0.3380 - val_acc: 0.8400\n",
      "Epoch 18/100\n",
      "25637/25637 [==============================] - 7s 283us/step - loss: 0.3351 - acc: 0.8345 - val_loss: 0.3474 - val_acc: 0.8270\n",
      "Epoch 19/100\n",
      "25637/25637 [==============================] - 7s 288us/step - loss: 0.3350 - acc: 0.8343 - val_loss: 0.3323 - val_acc: 0.8396\n",
      "Epoch 20/100\n",
      "25637/25637 [==============================] - 7s 279us/step - loss: 0.3332 - acc: 0.8368 - val_loss: 0.3335 - val_acc: 0.8334\n",
      "Epoch 21/100\n",
      "25637/25637 [==============================] - 7s 274us/step - loss: 0.3345 - acc: 0.8340 - val_loss: 0.3457 - val_acc: 0.8331\n"
     ]
    },
    {
     "name": "stderr",
     "output_type": "stream",
     "text": [
      "/home/pkovacs/anaconda3/lib/python3.6/site-packages/ipykernel_launcher.py:18: UserWarning: Update your `Dense` call to the Keras 2 API: `Dense(activation=\"relu\", input_dim=87, units=16, kernel_initializer=\"uniform\")`\n",
      "/home/pkovacs/anaconda3/lib/python3.6/site-packages/ipykernel_launcher.py:20: UserWarning: Update your `Dense` call to the Keras 2 API: `Dense(activation=\"relu\", units=16, kernel_initializer=\"uniform\")`\n"
     ]
    },
    {
     "name": "stdout",
     "output_type": "stream",
     "text": [
      "Train on 25637 samples, validate on 4525 samples\n",
      "Epoch 1/100\n",
      "25637/25637 [==============================] - 8s 295us/step - loss: 0.4195 - acc: 0.7984 - val_loss: 0.3718 - val_acc: 0.8073\n",
      "Epoch 2/100\n",
      "25637/25637 [==============================] - 7s 273us/step - loss: 0.3607 - acc: 0.8239 - val_loss: 0.3452 - val_acc: 0.8343\n",
      "Epoch 3/100\n",
      "25637/25637 [==============================] - 7s 274us/step - loss: 0.4390 - acc: 0.8277 - val_loss: 1.1642 - val_acc: 0.8057\n",
      "Epoch 4/100\n",
      "25637/25637 [==============================] - 7s 273us/step - loss: 1.1532 - acc: 0.7967 - val_loss: 1.1707 - val_acc: 0.7989\n",
      "Epoch 5/100\n",
      "25637/25637 [==============================] - 7s 274us/step - loss: 1.1515 - acc: 0.7955 - val_loss: 1.1645 - val_acc: 0.8113\n",
      "Epoch 6/100\n",
      "25637/25637 [==============================] - 7s 274us/step - loss: 1.1507 - acc: 0.7990 - val_loss: 1.1813 - val_acc: 0.7881\n",
      "Epoch 7/100\n",
      "25637/25637 [==============================] - 7s 273us/step - loss: 1.1478 - acc: 0.7989 - val_loss: 1.1611 - val_acc: 0.8071\n"
     ]
    },
    {
     "name": "stderr",
     "output_type": "stream",
     "text": [
      "/home/pkovacs/anaconda3/lib/python3.6/site-packages/ipykernel_launcher.py:18: UserWarning: Update your `Dense` call to the Keras 2 API: `Dense(activation=\"relu\", input_dim=87, units=32, kernel_initializer=\"uniform\")`\n",
      "/home/pkovacs/anaconda3/lib/python3.6/site-packages/ipykernel_launcher.py:20: UserWarning: Update your `Dense` call to the Keras 2 API: `Dense(activation=\"relu\", units=32, kernel_initializer=\"uniform\")`\n"
     ]
    },
    {
     "name": "stdout",
     "output_type": "stream",
     "text": [
      "Train on 25637 samples, validate on 4525 samples\n",
      "Epoch 1/100\n",
      "25637/25637 [==============================] - 8s 297us/step - loss: 0.4834 - acc: 0.7943 - val_loss: 1.1738 - val_acc: 0.7976\n",
      "Epoch 2/100\n",
      "25637/25637 [==============================] - 7s 273us/step - loss: 1.1643 - acc: 0.7909 - val_loss: 1.1925 - val_acc: 0.7775\n",
      "Epoch 3/100\n",
      "25637/25637 [==============================] - 7s 274us/step - loss: 1.3580 - acc: 0.7884 - val_loss: 1.5080 - val_acc: 0.7973\n",
      "Epoch 4/100\n",
      "25637/25637 [==============================] - 7s 273us/step - loss: 1.4054 - acc: 0.7916 - val_loss: 1.1655 - val_acc: 0.8004\n",
      "Epoch 5/100\n",
      "25637/25637 [==============================] - 7s 272us/step - loss: 1.1514 - acc: 0.7983 - val_loss: 1.1680 - val_acc: 0.7927\n",
      "Epoch 6/100\n",
      "25637/25637 [==============================] - 7s 273us/step - loss: 1.1495 - acc: 0.7973 - val_loss: 1.1657 - val_acc: 0.7976\n",
      "Epoch 7/100\n",
      "25637/25637 [==============================] - 7s 274us/step - loss: 1.1474 - acc: 0.7986 - val_loss: 1.1627 - val_acc: 0.8011\n",
      "Epoch 8/100\n",
      "25637/25637 [==============================] - 7s 274us/step - loss: 1.2649 - acc: 0.7975 - val_loss: 1.1740 - val_acc: 0.7867\n",
      "Epoch 9/100\n",
      "25637/25637 [==============================] - 7s 272us/step - loss: 1.1476 - acc: 0.7960 - val_loss: 1.1639 - val_acc: 0.7989\n",
      "Epoch 10/100\n",
      "25637/25637 [==============================] - 7s 273us/step - loss: 1.1441 - acc: 0.8014 - val_loss: 1.1605 - val_acc: 0.8062\n",
      "Epoch 11/100\n",
      "25637/25637 [==============================] - 7s 273us/step - loss: 1.1424 - acc: 0.8019 - val_loss: 1.1588 - val_acc: 0.8115\n",
      "Epoch 12/100\n",
      "25637/25637 [==============================] - 7s 273us/step - loss: 1.1399 - acc: 0.8057 - val_loss: 1.1857 - val_acc: 0.7830\n",
      "Epoch 13/100\n",
      "25637/25637 [==============================] - 7s 273us/step - loss: 1.1390 - acc: 0.8064 - val_loss: 1.1562 - val_acc: 0.8106\n",
      "Epoch 14/100\n",
      "25637/25637 [==============================] - 7s 279us/step - loss: 1.1378 - acc: 0.8076 - val_loss: 1.1580 - val_acc: 0.8086\n",
      "Epoch 15/100\n",
      "25637/25637 [==============================] - 7s 278us/step - loss: 1.2393 - acc: 0.8036 - val_loss: 1.2986 - val_acc: 0.7958\n",
      "Epoch 16/100\n",
      "25637/25637 [==============================] - 7s 276us/step - loss: 1.1382 - acc: 0.8055 - val_loss: 1.1609 - val_acc: 0.8099\n",
      "Epoch 17/100\n",
      "25637/25637 [==============================] - 7s 274us/step - loss: 1.1364 - acc: 0.8059 - val_loss: 1.1615 - val_acc: 0.8097\n",
      "Epoch 18/100\n",
      "25637/25637 [==============================] - 7s 280us/step - loss: 1.1366 - acc: 0.8058 - val_loss: 1.1612 - val_acc: 0.8086\n"
     ]
    },
    {
     "name": "stderr",
     "output_type": "stream",
     "text": [
      "/home/pkovacs/anaconda3/lib/python3.6/site-packages/ipykernel_launcher.py:18: UserWarning: Update your `Dense` call to the Keras 2 API: `Dense(activation=\"relu\", input_dim=87, units=64, kernel_initializer=\"uniform\")`\n",
      "/home/pkovacs/anaconda3/lib/python3.6/site-packages/ipykernel_launcher.py:20: UserWarning: Update your `Dense` call to the Keras 2 API: `Dense(activation=\"relu\", units=64, kernel_initializer=\"uniform\")`\n"
     ]
    },
    {
     "name": "stdout",
     "output_type": "stream",
     "text": [
      "Train on 25637 samples, validate on 4525 samples\n",
      "Epoch 1/100\n",
      "25637/25637 [==============================] - 8s 297us/step - loss: 0.4191 - acc: 0.7917 - val_loss: 0.3552 - val_acc: 0.8398\n",
      "Epoch 2/100\n",
      "25637/25637 [==============================] - 7s 262us/step - loss: 0.3580 - acc: 0.8246 - val_loss: 0.3412 - val_acc: 0.8413\n",
      "Epoch 3/100\n",
      "25637/25637 [==============================] - 7s 264us/step - loss: 0.7957 - acc: 0.8077 - val_loss: 1.1784 - val_acc: 0.7923\n",
      "Epoch 4/100\n",
      "25637/25637 [==============================] - 7s 268us/step - loss: 1.1531 - acc: 0.7952 - val_loss: 1.1667 - val_acc: 0.8057\n",
      "Epoch 5/100\n",
      "25637/25637 [==============================] - 7s 270us/step - loss: 1.1514 - acc: 0.7931 - val_loss: 1.1705 - val_acc: 0.8002\n",
      "Epoch 6/100\n",
      "25637/25637 [==============================] - 7s 268us/step - loss: 1.1499 - acc: 0.7968 - val_loss: 1.1649 - val_acc: 0.8011\n",
      "Epoch 7/100\n",
      "25637/25637 [==============================] - 7s 268us/step - loss: 1.1491 - acc: 0.7971 - val_loss: 1.1629 - val_acc: 0.8077\n"
     ]
    }
   ],
   "source": [
    "#NOSCALE\n",
    "import keras\n",
    "from keras.models import Sequential\n",
    "from keras.layers import Dense\n",
    "from sklearn.preprocessing import StandardScaler\n",
    "from sklearn.model_selection import train_test_split\n",
    "import time\n",
    "\n",
    "data_feature, val_feature, data_label, val_label = train_test_split(data_feature, data_label, test_size=0.15, random_state=42,stratify = data_label)\n",
    "\n",
    "SIZES = [2,4,8,16,32,64]\n",
    "times = np.zeros(len(SIZES))\n",
    "accs = np.zeros(len(SIZES))\n",
    "\n",
    "for i in range(len(SIZES)):\n",
    "    classifier = Sequential()\n",
    "    # Adding the input layer and the first hidden layer\n",
    "    classifier.add(Dense(output_dim = SIZES[i], init = 'uniform', activation = 'relu', input_dim = 87))\n",
    "    # Adding the second hidden layer\n",
    "    classifier.add(Dense(output_dim = SIZES[i], init = 'uniform', activation = 'relu'))\n",
    "    # Adding the output layer\n",
    "    classifier.add(Dense(output_dim = 1, init = 'uniform', activation = 'sigmoid'))\n",
    "\n",
    "    classifier.compile(optimizer = 'adam', loss = 'binary_crossentropy', metrics = ['accuracy'])\n",
    "    clb = [keras.callbacks.EarlyStopping(monitor='val_loss', min_delta=0, patience=5, verbose=0, mode='auto', baseline=None, restore_best_weights=True)]\n",
    "    start = time.time()\n",
    "    classifier.fit(data_feature, data_label, batch_size = 8, nb_epoch = 100,validation_data=(val_feature,val_label),callbacks=clb)\n",
    "    times[i]=time.time()-start\n",
    "    y_pred = classifier.predict(test_feature)\n",
    "    y_pred = np.array([int(y>0.5) for y in y_pred])\n",
    "    accs[i]=Accuracy(y_pred,test_label)"
   ]
  },
  {
   "cell_type": "code",
   "execution_count": 29,
   "metadata": {},
   "outputs": [
    {
     "data": {
      "image/png": "[encoded data removed]",
      "text/plain": [
       "<matplotlib.figure.Figure at 0x14635d6024e0>"
      ]
     },
     "metadata": {},
     "output_type": "display_data"
    }
   ],
   "source": [
    "plt.plot(SIZES,times)\n",
    "plt.xlabel(\"Size of one layer\")\n",
    "plt.title(\"Training time (s)\")\n",
    "plt.savefig(\"CensusIncome_NN_traintime_noscaled.png\")"
   ]
  },
  {
   "cell_type": "code",
   "execution_count": 30,
   "metadata": {
    "scrolled": true
   },
   "outputs": [
    {
     "data": {
      "image/png": "[encoded data removed]",
      "text/plain": [
       "<matplotlib.figure.Figure at 0x14635d6027b8>"
      ]
     },
     "metadata": {},
     "output_type": "display_data"
    }
   ],
   "source": [
    "plt.plot(SIZES,accs*100)\n",
    "plt.xlabel(\"Size of one layer\")\n",
    "plt.title(\"Accuracy (%)\")\n",
    "plt.savefig(\"CensusIncome_NN_Accuracy_noscaled.png\")"
   ]
  },
  {
   "cell_type": "code",
   "execution_count": null,
   "metadata": {},
   "outputs": [],
   "source": []
  },
  {
   "cell_type": "code",
   "execution_count": 13,
   "metadata": {},
   "outputs": [
    {
     "name": "stderr",
     "output_type": "stream",
     "text": [
      "/home/pkovacs/anaconda3/lib/python3.6/site-packages/ipykernel_launcher.py:28: UserWarning: Update your `Dense` call to the Keras 2 API: `Dense(activation=\"relu\", input_dim=87, units=2, kernel_initializer=\"uniform\")`\n",
      "/home/pkovacs/anaconda3/lib/python3.6/site-packages/ipykernel_launcher.py:30: UserWarning: Update your `Dense` call to the Keras 2 API: `Dense(activation=\"relu\", units=2, kernel_initializer=\"uniform\")`\n",
      "/home/pkovacs/anaconda3/lib/python3.6/site-packages/ipykernel_launcher.py:32: UserWarning: Update your `Dense` call to the Keras 2 API: `Dense(activation=\"sigmoid\", units=1, kernel_initializer=\"uniform\")`\n",
      "/home/pkovacs/anaconda3/lib/python3.6/site-packages/ipykernel_launcher.py:37: UserWarning: The `nb_epoch` argument in `fit` has been renamed `epochs`.\n"
     ]
    },
    {
     "name": "stdout",
     "output_type": "stream",
     "text": [
      "Train on 21791 samples, validate on 3846 samples\n",
      "Epoch 1/100\n",
      "21791/21791 [==============================] - 6s 261us/step - loss: 0.4204 - acc: 0.7746 - val_loss: 0.3841 - val_acc: 0.8047\n",
      "Epoch 2/100\n",
      "21791/21791 [==============================] - 5s 246us/step - loss: 0.3810 - acc: 0.8043 - val_loss: 0.3789 - val_acc: 0.8066\n",
      "Epoch 3/100\n",
      "21791/21791 [==============================] - 5s 246us/step - loss: 0.3782 - acc: 0.8061 - val_loss: 0.3790 - val_acc: 0.8079\n",
      "Epoch 4/100\n",
      "21791/21791 [==============================] - 5s 247us/step - loss: 0.3777 - acc: 0.8063 - val_loss: 0.3780 - val_acc: 0.8058\n",
      "Epoch 5/100\n",
      "21791/21791 [==============================] - 5s 246us/step - loss: 0.3774 - acc: 0.8063 - val_loss: 0.3766 - val_acc: 0.8071\n",
      "Epoch 6/100\n",
      "21791/21791 [==============================] - 5s 248us/step - loss: 0.3767 - acc: 0.8088 - val_loss: 0.3761 - val_acc: 0.8073\n",
      "Epoch 7/100\n",
      "21791/21791 [==============================] - 5s 247us/step - loss: 0.3764 - acc: 0.8090 - val_loss: 0.3768 - val_acc: 0.8071\n",
      "Epoch 8/100\n",
      "21791/21791 [==============================] - 5s 246us/step - loss: 0.3756 - acc: 0.8087 - val_loss: 0.3768 - val_acc: 0.8060\n",
      "Epoch 9/100\n",
      "21791/21791 [==============================] - 5s 246us/step - loss: 0.3752 - acc: 0.8089 - val_loss: 0.3763 - val_acc: 0.8099\n",
      "Epoch 10/100\n",
      "21791/21791 [==============================] - 5s 249us/step - loss: 0.3751 - acc: 0.8091 - val_loss: 0.3762 - val_acc: 0.8094\n",
      "Epoch 11/100\n",
      "21791/21791 [==============================] - 5s 246us/step - loss: 0.3742 - acc: 0.8096 - val_loss: 0.3744 - val_acc: 0.8164\n",
      "Epoch 12/100\n",
      "21791/21791 [==============================] - 5s 247us/step - loss: 0.3722 - acc: 0.8116 - val_loss: 0.3742 - val_acc: 0.8149\n",
      "Epoch 13/100\n",
      "21791/21791 [==============================] - 5s 249us/step - loss: 0.3703 - acc: 0.8135 - val_loss: 0.3722 - val_acc: 0.8125\n",
      "Epoch 14/100\n",
      "21791/21791 [==============================] - 5s 247us/step - loss: 0.3691 - acc: 0.8136 - val_loss: 0.3734 - val_acc: 0.8146\n",
      "Epoch 15/100\n",
      "21791/21791 [==============================] - 5s 245us/step - loss: 0.3683 - acc: 0.8137 - val_loss: 0.3702 - val_acc: 0.8188\n",
      "Epoch 16/100\n",
      "21791/21791 [==============================] - 5s 246us/step - loss: 0.3655 - acc: 0.8180 - val_loss: 0.3684 - val_acc: 0.8209\n",
      "Epoch 17/100\n",
      "21791/21791 [==============================] - 5s 247us/step - loss: 0.3622 - acc: 0.8208 - val_loss: 0.3659 - val_acc: 0.8224\n",
      "Epoch 18/100\n",
      "21791/21791 [==============================] - 5s 247us/step - loss: 0.3595 - acc: 0.8229 - val_loss: 0.3634 - val_acc: 0.8245\n",
      "Epoch 19/100\n",
      "21791/21791 [==============================] - 5s 246us/step - loss: 0.3579 - acc: 0.8258 - val_loss: 0.3616 - val_acc: 0.8268\n",
      "Epoch 20/100\n",
      "21791/21791 [==============================] - 5s 246us/step - loss: 0.3574 - acc: 0.8258 - val_loss: 0.3602 - val_acc: 0.8268\n",
      "Epoch 21/100\n",
      "21791/21791 [==============================] - 5s 248us/step - loss: 0.3561 - acc: 0.8281 - val_loss: 0.3584 - val_acc: 0.8279\n",
      "Epoch 22/100\n",
      "21791/21791 [==============================] - 5s 246us/step - loss: 0.3553 - acc: 0.8283 - val_loss: 0.3566 - val_acc: 0.8307\n",
      "Epoch 23/100\n",
      "21791/21791 [==============================] - 5s 246us/step - loss: 0.3544 - acc: 0.8301 - val_loss: 0.3552 - val_acc: 0.8313\n",
      "Epoch 24/100\n",
      "21791/21791 [==============================] - 5s 246us/step - loss: 0.3536 - acc: 0.8294 - val_loss: 0.3559 - val_acc: 0.8276\n",
      "Epoch 25/100\n",
      "21791/21791 [==============================] - 5s 247us/step - loss: 0.3533 - acc: 0.8302 - val_loss: 0.3572 - val_acc: 0.8297\n",
      "Epoch 26/100\n",
      "21791/21791 [==============================] - 5s 248us/step - loss: 0.3533 - acc: 0.8295 - val_loss: 0.3584 - val_acc: 0.8297\n",
      "Epoch 27/100\n",
      "21791/21791 [==============================] - 5s 247us/step - loss: 0.3532 - acc: 0.8298 - val_loss: 0.3544 - val_acc: 0.8287\n",
      "Epoch 28/100\n",
      "21791/21791 [==============================] - 5s 247us/step - loss: 0.3531 - acc: 0.8298 - val_loss: 0.3554 - val_acc: 0.8292\n",
      "Epoch 29/100\n",
      "21791/21791 [==============================] - 5s 247us/step - loss: 0.3533 - acc: 0.8296 - val_loss: 0.3553 - val_acc: 0.8300\n",
      "Epoch 30/100\n",
      "21791/21791 [==============================] - 5s 248us/step - loss: 0.3530 - acc: 0.8303 - val_loss: 0.3552 - val_acc: 0.8281\n",
      "Epoch 31/100\n",
      "21791/21791 [==============================] - 5s 247us/step - loss: 0.3532 - acc: 0.8298 - val_loss: 0.3562 - val_acc: 0.8307\n",
      "Epoch 32/100\n",
      "21791/21791 [==============================] - 5s 247us/step - loss: 0.3530 - acc: 0.8293 - val_loss: 0.3559 - val_acc: 0.8307\n"
     ]
    },
    {
     "name": "stderr",
     "output_type": "stream",
     "text": [
      "/home/pkovacs/anaconda3/lib/python3.6/site-packages/ipykernel_launcher.py:28: UserWarning: Update your `Dense` call to the Keras 2 API: `Dense(activation=\"relu\", input_dim=87, units=4, kernel_initializer=\"uniform\")`\n",
      "/home/pkovacs/anaconda3/lib/python3.6/site-packages/ipykernel_launcher.py:30: UserWarning: Update your `Dense` call to the Keras 2 API: `Dense(activation=\"relu\", units=4, kernel_initializer=\"uniform\")`\n"
     ]
    },
    {
     "name": "stdout",
     "output_type": "stream",
     "text": [
      "Train on 21791 samples, validate on 3846 samples\n",
      "Epoch 1/100\n",
      "21791/21791 [==============================] - 6s 262us/step - loss: 0.3955 - acc: 0.8025 - val_loss: 0.3617 - val_acc: 0.8328\n",
      "Epoch 2/100\n",
      "21791/21791 [==============================] - 5s 245us/step - loss: 0.3545 - acc: 0.8340 - val_loss: 0.3537 - val_acc: 0.8315\n",
      "Epoch 3/100\n",
      "21791/21791 [==============================] - 5s 245us/step - loss: 0.3495 - acc: 0.8347 - val_loss: 0.3538 - val_acc: 0.8346\n",
      "Epoch 4/100\n",
      "21791/21791 [==============================] - 5s 245us/step - loss: 0.3468 - acc: 0.8370 - val_loss: 0.3534 - val_acc: 0.8346\n",
      "Epoch 5/100\n",
      "21791/21791 [==============================] - 5s 245us/step - loss: 0.3446 - acc: 0.8386 - val_loss: 0.3494 - val_acc: 0.8378\n",
      "Epoch 6/100\n",
      "21791/21791 [==============================] - 5s 246us/step - loss: 0.3431 - acc: 0.8387 - val_loss: 0.3462 - val_acc: 0.8365\n",
      "Epoch 7/100\n",
      "21791/21791 [==============================] - 5s 246us/step - loss: 0.3417 - acc: 0.8394 - val_loss: 0.3511 - val_acc: 0.8383\n",
      "Epoch 8/100\n",
      "21791/21791 [==============================] - 5s 246us/step - loss: 0.3409 - acc: 0.8396 - val_loss: 0.3476 - val_acc: 0.8365\n",
      "Epoch 9/100\n",
      "21791/21791 [==============================] - 5s 246us/step - loss: 0.3406 - acc: 0.8395 - val_loss: 0.3470 - val_acc: 0.8372\n",
      "Epoch 10/100\n",
      "21791/21791 [==============================] - 5s 246us/step - loss: 0.3399 - acc: 0.8399 - val_loss: 0.3475 - val_acc: 0.8367\n",
      "Epoch 11/100\n",
      "21791/21791 [==============================] - 5s 246us/step - loss: 0.3392 - acc: 0.8401 - val_loss: 0.3482 - val_acc: 0.8378\n"
     ]
    },
    {
     "name": "stderr",
     "output_type": "stream",
     "text": [
      "/home/pkovacs/anaconda3/lib/python3.6/site-packages/ipykernel_launcher.py:28: UserWarning: Update your `Dense` call to the Keras 2 API: `Dense(activation=\"relu\", input_dim=87, units=8, kernel_initializer=\"uniform\")`\n",
      "/home/pkovacs/anaconda3/lib/python3.6/site-packages/ipykernel_launcher.py:30: UserWarning: Update your `Dense` call to the Keras 2 API: `Dense(activation=\"relu\", units=8, kernel_initializer=\"uniform\")`\n"
     ]
    },
    {
     "name": "stdout",
     "output_type": "stream",
     "text": [
      "Train on 21791 samples, validate on 3846 samples\n",
      "Epoch 1/100\n",
      "21791/21791 [==============================] - 6s 264us/step - loss: 0.3681 - acc: 0.8283 - val_loss: 0.3326 - val_acc: 0.8435\n",
      "Epoch 2/100\n",
      "21791/21791 [==============================] - 5s 247us/step - loss: 0.3297 - acc: 0.8453 - val_loss: 0.3255 - val_acc: 0.8482\n",
      "Epoch 3/100\n",
      "21791/21791 [==============================] - 5s 248us/step - loss: 0.3241 - acc: 0.8472 - val_loss: 0.3228 - val_acc: 0.8456\n",
      "Epoch 4/100\n",
      "21791/21791 [==============================] - 5s 249us/step - loss: 0.3208 - acc: 0.8487 - val_loss: 0.3201 - val_acc: 0.8487\n",
      "Epoch 5/100\n",
      "21791/21791 [==============================] - 5s 248us/step - loss: 0.3185 - acc: 0.8498 - val_loss: 0.3208 - val_acc: 0.8484\n",
      "Epoch 6/100\n",
      "21791/21791 [==============================] - 5s 249us/step - loss: 0.3170 - acc: 0.8496 - val_loss: 0.3208 - val_acc: 0.8471\n",
      "Epoch 7/100\n",
      "21791/21791 [==============================] - 5s 249us/step - loss: 0.3165 - acc: 0.8505 - val_loss: 0.3186 - val_acc: 0.8495\n",
      "Epoch 8/100\n",
      "21791/21791 [==============================] - 5s 248us/step - loss: 0.3151 - acc: 0.8511 - val_loss: 0.3186 - val_acc: 0.8513\n",
      "Epoch 9/100\n",
      "21791/21791 [==============================] - 5s 248us/step - loss: 0.3138 - acc: 0.8514 - val_loss: 0.3200 - val_acc: 0.8515\n",
      "Epoch 10/100\n",
      "21791/21791 [==============================] - 5s 249us/step - loss: 0.3135 - acc: 0.8514 - val_loss: 0.3185 - val_acc: 0.8526\n",
      "Epoch 11/100\n",
      "21791/21791 [==============================] - 5s 248us/step - loss: 0.3136 - acc: 0.8514 - val_loss: 0.3191 - val_acc: 0.8492\n",
      "Epoch 12/100\n",
      "21791/21791 [==============================] - 5s 248us/step - loss: 0.3123 - acc: 0.8537 - val_loss: 0.3192 - val_acc: 0.8521\n",
      "Epoch 13/100\n",
      "21791/21791 [==============================] - 5s 248us/step - loss: 0.3117 - acc: 0.8526 - val_loss: 0.3195 - val_acc: 0.8521\n",
      "Epoch 14/100\n",
      "21791/21791 [==============================] - 5s 249us/step - loss: 0.3114 - acc: 0.8535 - val_loss: 0.3200 - val_acc: 0.8487\n",
      "Epoch 15/100\n",
      "21791/21791 [==============================] - 5s 249us/step - loss: 0.3110 - acc: 0.8538 - val_loss: 0.3190 - val_acc: 0.8528\n"
     ]
    },
    {
     "name": "stderr",
     "output_type": "stream",
     "text": [
      "/home/pkovacs/anaconda3/lib/python3.6/site-packages/ipykernel_launcher.py:28: UserWarning: Update your `Dense` call to the Keras 2 API: `Dense(activation=\"relu\", input_dim=87, units=16, kernel_initializer=\"uniform\")`\n",
      "/home/pkovacs/anaconda3/lib/python3.6/site-packages/ipykernel_launcher.py:30: UserWarning: Update your `Dense` call to the Keras 2 API: `Dense(activation=\"relu\", units=16, kernel_initializer=\"uniform\")`\n"
     ]
    },
    {
     "name": "stdout",
     "output_type": "stream",
     "text": [
      "Train on 21791 samples, validate on 3846 samples\n",
      "Epoch 1/100\n",
      "21791/21791 [==============================] - 6s 267us/step - loss: 0.3578 - acc: 0.8336 - val_loss: 0.3282 - val_acc: 0.8471\n",
      "Epoch 2/100\n",
      "21791/21791 [==============================] - 5s 249us/step - loss: 0.3244 - acc: 0.8473 - val_loss: 0.3232 - val_acc: 0.8476\n",
      "Epoch 3/100\n",
      "21791/21791 [==============================] - 5s 252us/step - loss: 0.3192 - acc: 0.8484 - val_loss: 0.3199 - val_acc: 0.8495\n",
      "Epoch 4/100\n",
      "21791/21791 [==============================] - 5s 251us/step - loss: 0.3167 - acc: 0.8513 - val_loss: 0.3209 - val_acc: 0.8534\n",
      "Epoch 5/100\n",
      "21791/21791 [==============================] - 5s 249us/step - loss: 0.3140 - acc: 0.8548 - val_loss: 0.3212 - val_acc: 0.8469\n",
      "Epoch 6/100\n",
      "21791/21791 [==============================] - 5s 250us/step - loss: 0.3124 - acc: 0.8558 - val_loss: 0.3219 - val_acc: 0.8492\n",
      "Epoch 7/100\n",
      "21791/21791 [==============================] - 5s 250us/step - loss: 0.3107 - acc: 0.8542 - val_loss: 0.3215 - val_acc: 0.8471\n",
      "Epoch 8/100\n",
      "21791/21791 [==============================] - 5s 249us/step - loss: 0.3095 - acc: 0.8545 - val_loss: 0.3224 - val_acc: 0.8536\n"
     ]
    },
    {
     "name": "stderr",
     "output_type": "stream",
     "text": [
      "/home/pkovacs/anaconda3/lib/python3.6/site-packages/ipykernel_launcher.py:28: UserWarning: Update your `Dense` call to the Keras 2 API: `Dense(activation=\"relu\", input_dim=87, units=32, kernel_initializer=\"uniform\")`\n",
      "/home/pkovacs/anaconda3/lib/python3.6/site-packages/ipykernel_launcher.py:30: UserWarning: Update your `Dense` call to the Keras 2 API: `Dense(activation=\"relu\", units=32, kernel_initializer=\"uniform\")`\n"
     ]
    },
    {
     "name": "stdout",
     "output_type": "stream",
     "text": [
      "Train on 21791 samples, validate on 3846 samples\n",
      "Epoch 1/100\n",
      "21791/21791 [==============================] - 6s 270us/step - loss: 0.3542 - acc: 0.8312 - val_loss: 0.3272 - val_acc: 0.8445\n",
      "Epoch 2/100\n",
      "21791/21791 [==============================] - 5s 251us/step - loss: 0.3226 - acc: 0.8478 - val_loss: 0.3239 - val_acc: 0.8435\n",
      "Epoch 3/100\n",
      "21791/21791 [==============================] - 5s 251us/step - loss: 0.3183 - acc: 0.8500 - val_loss: 0.3206 - val_acc: 0.8482\n",
      "Epoch 4/100\n",
      "21791/21791 [==============================] - 5s 252us/step - loss: 0.3159 - acc: 0.8518 - val_loss: 0.3209 - val_acc: 0.8471\n",
      "Epoch 5/100\n",
      "21791/21791 [==============================] - 5s 250us/step - loss: 0.3129 - acc: 0.8546 - val_loss: 0.3214 - val_acc: 0.8534\n",
      "Epoch 6/100\n",
      "21791/21791 [==============================] - 5s 251us/step - loss: 0.3102 - acc: 0.8550 - val_loss: 0.3218 - val_acc: 0.8508\n",
      "Epoch 7/100\n",
      "21791/21791 [==============================] - 5s 250us/step - loss: 0.3091 - acc: 0.8547 - val_loss: 0.3261 - val_acc: 0.8497\n",
      "Epoch 8/100\n",
      "21791/21791 [==============================] - 5s 251us/step - loss: 0.3069 - acc: 0.8572 - val_loss: 0.3269 - val_acc: 0.8502\n"
     ]
    },
    {
     "name": "stderr",
     "output_type": "stream",
     "text": [
      "/home/pkovacs/anaconda3/lib/python3.6/site-packages/ipykernel_launcher.py:28: UserWarning: Update your `Dense` call to the Keras 2 API: `Dense(activation=\"relu\", input_dim=87, units=64, kernel_initializer=\"uniform\")`\n",
      "/home/pkovacs/anaconda3/lib/python3.6/site-packages/ipykernel_launcher.py:30: UserWarning: Update your `Dense` call to the Keras 2 API: `Dense(activation=\"relu\", units=64, kernel_initializer=\"uniform\")`\n"
     ]
    },
    {
     "name": "stdout",
     "output_type": "stream",
     "text": [
      "Train on 21791 samples, validate on 3846 samples\n",
      "Epoch 1/100\n",
      "21791/21791 [==============================] - 6s 279us/step - loss: 0.3478 - acc: 0.8383 - val_loss: 0.3311 - val_acc: 0.8487\n",
      "Epoch 2/100\n",
      "21791/21791 [==============================] - 6s 256us/step - loss: 0.3230 - acc: 0.8493 - val_loss: 0.3205 - val_acc: 0.8476\n",
      "Epoch 3/100\n",
      "21791/21791 [==============================] - 6s 257us/step - loss: 0.3194 - acc: 0.8510 - val_loss: 0.3221 - val_acc: 0.8487\n",
      "Epoch 4/100\n",
      "21791/21791 [==============================] - 6s 255us/step - loss: 0.3152 - acc: 0.8544 - val_loss: 0.3232 - val_acc: 0.8521\n",
      "Epoch 5/100\n",
      "21791/21791 [==============================] - 6s 258us/step - loss: 0.3124 - acc: 0.8537 - val_loss: 0.3209 - val_acc: 0.8505\n",
      "Epoch 6/100\n",
      "21791/21791 [==============================] - 6s 258us/step - loss: 0.3101 - acc: 0.8560 - val_loss: 0.3319 - val_acc: 0.8575\n",
      "Epoch 7/100\n",
      "21791/21791 [==============================] - 6s 256us/step - loss: 0.3075 - acc: 0.8573 - val_loss: 0.3225 - val_acc: 0.8500\n"
     ]
    }
   ],
   "source": [
    "##############################################TODO#######################################################################\n",
    "#A HOLDOUT OR CROSSVALIDATION HAS TO BE ADDED TO KNOW WHEN TO STOP THE TRAINING.\n",
    "#This can be added in a Callback func\n",
    "\n",
    "import keras\n",
    "from keras.models import Sequential\n",
    "from keras.layers import Dense\n",
    "from sklearn.preprocessing import StandardScaler\n",
    "from sklearn.model_selection import train_test_split\n",
    "import time\n",
    "\n",
    "#This fckin scaling is unreasonably important, without this the training radomly jumps and gets stuck in a bad place...\n",
    "#include this in the report, maybe with some shown examples.... (I have no idea why it happens.)\n",
    "\n",
    "sc = StandardScaler()\n",
    "data_feature = sc.fit_transform(data_feature)\n",
    "test_feature = sc.transform(test_feature)\n",
    "\n",
    "data_feature, val_feature, data_label, val_label = train_test_split(data_feature, data_label, test_size=0.15, random_state=42,stratify = data_label)\n",
    "\n",
    "SIZES = [2,4,8,16,32,64]\n",
    "times_scal = np.zeros(len(SIZES))\n",
    "accs_scal = np.zeros(len(SIZES))\n",
    "\n",
    "for i in range(len(SIZES)):\n",
    "    classifier = Sequential()\n",
    "    # Adding the input layer and the first hidden layer\n",
    "    classifier.add(Dense(output_dim = SIZES[i], init = 'uniform', activation = 'relu', input_dim = 87))\n",
    "    # Adding the second hidden layer\n",
    "    classifier.add(Dense(output_dim = SIZES[i], init = 'uniform', activation = 'relu'))\n",
    "    # Adding the output layer\n",
    "    classifier.add(Dense(output_dim = 1, init = 'uniform', activation = 'sigmoid'))\n",
    "\n",
    "    classifier.compile(optimizer = 'adam', loss = 'binary_crossentropy', metrics = ['accuracy'])\n",
    "    clb = [keras.callbacks.EarlyStopping(monitor='val_loss', min_delta=0, patience=5, verbose=0, mode='auto', baseline=None, restore_best_weights=True)]\n",
    "    start = time.time()\n",
    "    classifier.fit(data_feature, data_label, batch_size = 8, nb_epoch = 100,validation_data=(val_feature,val_label),callbacks=clb)\n",
    "    times_scal[i]=time.time()-start\n",
    "    y_pred = classifier.predict(test_feature)\n",
    "    y_pred = np.array([int(y>0.5) for y in y_pred])\n",
    "    accs_scal[i]=Accuracy(y_pred,test_label)"
   ]
  },
  {
   "cell_type": "code",
   "execution_count": 18,
   "metadata": {},
   "outputs": [
    {
     "data": {
      "image/png": "[encoded data removed]",
      "text/plain": [
       "<matplotlib.figure.Figure at 0x14635d7a0748>"
      ]
     },
     "metadata": {},
     "output_type": "display_data"
    }
   ],
   "source": [
    "plt.plot(SIZES,times_scal,label = \"Scaled\")\n",
    "plt.plot(SIZES,times,label = \"Non-scaled\")\n",
    "plt.xlabel(\"Size of one layer\")\n",
    "plt.title(\"Training time (s)\")\n",
    "plt.legend()\n",
    "plt.savefig(\"CensusIncome_NN_traintime.png\")"
   ]
  },
  {
   "cell_type": "code",
   "execution_count": 31,
   "metadata": {
    "scrolled": true
   },
   "outputs": [
    {
     "data": {
      "image/png": "[encoded data removed]",
      "text/plain": [
       "<matplotlib.figure.Figure at 0x14635d6025c0>"
      ]
     },
     "metadata": {},
     "output_type": "display_data"
    }
   ],
   "source": [
    "plt.plot(SIZES,accs_scal*100,label = \"Scaled\")\n",
    "plt.plot(SIZES,accs*100,label = 'Non-scaled')\n",
    "plt.xlabel(\"Size of one layer\")\n",
    "plt.title(\"Accuracy (%)\")\n",
    "plt.legend()\n",
    "plt.savefig(\"CensusIncome_NN_Accuracy.png\")"
   ]
  },
  {
   "cell_type": "code",
   "execution_count": 34,
   "metadata": {},
   "outputs": [
    {
     "data": {
      "text/plain": [
       "array([[0.9992933 ],\n",
       "       [0.8053193 ],\n",
       "       [0.52827764],\n",
       "       ...,\n",
       "       [0.3197357 ],\n",
       "       [0.29056302],\n",
       "       [0.28747588]], dtype=float32)"
      ]
     },
     "execution_count": 34,
     "metadata": {},
     "output_type": "execute_result"
    }
   ],
   "source": [
    "classifier.predict(test_feature)"
   ]
  },
  {
   "cell_type": "code",
   "execution_count": null,
   "metadata": {},
   "outputs": [],
   "source": []
  }
 ],
 "metadata": {
  "kernelspec": {
   "display_name": "Python 3",
   "language": "python",
   "name": "python3"
  },
  "language_info": {
   "codemirror_mode": {
    "name": "ipython",
    "version": 3
   },
   "file_extension": ".py",
   "mimetype": "text/x-python",
   "name": "python",
   "nbconvert_exporter": "python",
   "pygments_lexer": "ipython3",
   "version": "3.5.2"
  }
 },
 "nbformat": 4,
 "nbformat_minor": 2
}
